{
 "cells": [
  {
   "cell_type": "markdown",
   "metadata": {},
   "source": [
    "#### *Analyze a family of RNNs all trained on the same data but with different hyperparameters.*\n",
    "\n",
    "Essentially, most RNNs fit the muscle activity data (EMG) with almost the same loss.\n",
    "\n",
    "(This is a very easy task from an ML standpoint.)\n",
    "\n",
    "But not all such RNNs are equivalent as RNNs are overparametrized, and their internal behavior depends on hyperparameters. Here we investigate this dependence.\n",
    "\n",
    "The cost function for the RNN\n",
    "$$ \\sum_{t,c}\\|\\hat{y}(t,c) - y(t,c)\\|_2^2 + \\lambda_1\\|A\\|_F^2 + \\lambda_2\\|C\\|_F^2,$$\n",
    "where $A$ and $C$ are the state-to-state and state-to-output matrices, respectively.\n",
    "\n",
    "The RNN hyperparameters,\n",
    "- $\\lambda_1$\n",
    "- $\\lambda_2$\n",
    "- $\\sigma_w$ (std dev of noise injected into neurons during training\n",
    "\n",
    "are compared against various measures of RNN activation trajectories\n",
    "- mean curvature\n",
    "- mean curvature (path length normalized)\n",
    "- mean torsion (generalized curvature)\n",
    "- trajectory \"tangling\" (a \"global measure of curvature\")\n",
    "- path length\n",
    "- dimensionality (participation ratio)\n",
    "- average of the norms of the Jacobian evaluated at all path points\n",
    "- \"noise robustness\"\n",
    "- \"structural robustness\"\n",
    "\n",
    "The latter two measures are obtained by resimulating the RNN and injecting noise to the state variables (noise robustness) or by adding a random perturbation to $A$ (structural robustness) and then finding the strength of noise required to drop the EMG fit to $R^2< 0.5$. This is tricky because a small perturbation in $A$ can result in EMG fits that are *qualitiatively* good but *quantitatively* bad (e.g. small frequency changes might result in a huge drop in $R^2$). Thus we use dynamic time warping (DTW) as a measure of loss instead of $MSE$ or $R^2$---first apply DTW then take $R^2$. This minor details turns out to actually make a difference.\n",
    "\n",
    "----------\n",
    "\n",
    "### TODO\n",
    "Do:\n",
    "- [DONE] Test for 1 condition only\n",
    "- Lie stuff -- lie bracket, lie derivatives, etc\n",
    "- regularize the RNN activations maybe\n",
    "- [DONE] normalize by path length for curvature calculations\n",
    "- [DONE] check to make sure dtw is working correctly\n",
    "- plot ref lines for M1 data\n"
   ]
  },
  {
   "cell_type": "markdown",
   "metadata": {},
   "source": [
    "# 0. Initial stuff"
   ]
  },
  {
   "cell_type": "code",
   "execution_count": 12,
   "metadata": {
    "collapsed": false
   },
   "outputs": [
    {
     "name": "stdout",
     "output_type": "stream",
     "text": [
      "The autoreload extension is already loaded. To reload it, use:\n",
      "  %reload_ext autoreload\n"
     ]
    }
   ],
   "source": [
    "%reset -f\n",
    "%matplotlib inline\n",
    "%load_ext autoreload\n",
    "%autoreload 2"
   ]
  },
  {
   "cell_type": "code",
   "execution_count": 13,
   "metadata": {
    "collapsed": true
   },
   "outputs": [],
   "source": [
    "import sys\n",
    "sys.path.append('../')"
   ]
  },
  {
   "cell_type": "code",
   "execution_count": 14,
   "metadata": {
    "collapsed": false
   },
   "outputs": [],
   "source": [
    "import numpy as np\n",
    "import scipy.io as sio\n",
    "import sklearn as sk\n",
    "\n",
    "from sklearn import decomposition\n",
    "from sklearn import metrics\n",
    "import matplotlib as mpl\n",
    "import matplotlib.pyplot as plt\n",
    "import seaborn as sns\n",
    "import pandas as pd\n",
    "import tensorflow as tf\n",
    "\n",
    "# For jupyter tensorboarding\n",
    "from io import BytesIO\n",
    "from functools import partial\n",
    "import PIL.Image\n",
    "from ipywidgets import FloatProgress\n",
    "\n",
    "from IPython.display import clear_output, Image, display, HTML\n",
    "\n",
    "import pickle\n",
    "import os\n",
    "import pprint as pp\n",
    "\n",
    "from dtw import dtw\n",
    "from cdtw import pydtw\n",
    "\n",
    "from tqdm import tqdm # progress bar"
   ]
  },
  {
   "cell_type": "code",
   "execution_count": 15,
   "metadata": {
    "collapsed": false
   },
   "outputs": [],
   "source": [
    "import cyclingrnn.geometric as geo\n",
    "from cyclingrnn import sigerr\n",
    "from cyclingrnn.train import *"
   ]
  },
  {
   "cell_type": "code",
   "execution_count": 16,
   "metadata": {
    "collapsed": true
   },
   "outputs": [],
   "source": [
    "# sns colormaps\n",
    "cmap = sns.color_palette('RdBu',5)[:2] + sns.color_palette('RdBu',5)[-2:]\n",
    "sns.set_palette(cmap)\n",
    "sns.set_context('paper', font_scale=1.5)"
   ]
  },
  {
   "cell_type": "markdown",
   "metadata": {},
   "source": [
    "# Geometric analysis functions\n",
    "Set of functions for analyzing geometric properties of shape `(time, batch_size, dimension)` signals. "
   ]
  },
  {
   "cell_type": "code",
   "execution_count": 17,
   "metadata": {
    "collapsed": false
   },
   "outputs": [],
   "source": [
    "# def tangling(signal_in, alpha=0.1, dt=0.025):\n",
    "#   '''\n",
    "#     Computes \"tangling,\" a global-ish measure of curvature of a curve\n",
    "#     Inputs\n",
    "#       signal_in: (T, batch_size, n) signal\n",
    "#       alpha: factor for how much to scale np.var() in the denominator\n",
    "#       dt: time units\n",
    "#     Outputs\n",
    "#       Q: (T, batch_size) tangling metric\n",
    "#   '''\n",
    "#   sig_diff = np.diff(signal_in, axis=0)\n",
    "#   signal_in = signal_in[1:, :, :]\n",
    "#   Q = np.zeros(signal_in.shape[:2])\n",
    "#   const = alpha*np.sum(np.var(signal_in, axis=(0,1)))\n",
    "#   for t in range(signal_in.shape[0]):\n",
    "#     for b in range(signal_in.shape[1]):\n",
    "#       num = np.sum((sig_diff[t, b, :]/dt - sig_diff/dt)**2, axis=2)\n",
    "#       den = np.sum((signal_in[t, b, :] - signal_in)**2, axis=2) + const\n",
    "#       Q[t, b] = np.max(num/den)\n",
    "#   return Q\n",
    "\n",
    "# def percent_tangling(x_in, y_in, th=1, alpha=0.1):\n",
    "#   \"\"\"\n",
    "#     scalar summary of tangling() results\n",
    "#     percent tangling, i.e. percentage of points above the y=th*x line\n",
    "#     Inputs\n",
    "#       x_in: (T, batch_size, n) signal\n",
    "#       y_in: (T, batch_size, n) reference signal\n",
    "#       th: threshold or slope\n",
    "#       alpha: fed into tangling()\n",
    "#     Outputs\n",
    "#       percent tangling scalar\n",
    "#   \"\"\"\n",
    "#   q_emg = tangling(y_in, alpha=alpha)\n",
    "#   q_m1 = tangling(x_in, alpha=alpha)\n",
    "#   ratio = q_m1/q_emg\n",
    "#   return np.true_divide(np.sum(ratio > th), ratio.size)\n",
    "\n",
    "# def mean_tangling(x_in, alpha=0.1):\n",
    "#   \"\"\"\n",
    "#     scalar summary of tangling() results\n",
    "#     mean tangling, i.e. just the mean\n",
    "#     Inputs\n",
    "#       x_in: (T, batch_size, n) signal\n",
    "#       alpha: fed to tangling()\n",
    "#   \"\"\"\n",
    "#   return np.mean(tangling(x_in, alpha=alpha))\n",
    "\n",
    "# def dist_tangling(x_in, y_in, alpha=0.1):\n",
    "#   \"\"\"\n",
    "#     scalar summary of tangling() results\n",
    "#     sum of signed squared distances of [x_in, y_in] from diagonal\n",
    "#     todo: sum of signed squared distances?\n",
    "#   \"\"\"\n",
    "#   q_y = tangling(y_in, alpha=alpha)\n",
    "#   q_x = tangling(x_in, alpha=alpha)\n",
    "#   q = np.array((q_y.flatten(), q_x.flatten()))\n",
    "#   ones = np.ones_like(q)\n",
    "#   sign = (q[0,:] > q[1,:]).astype('int')\n",
    "#   sign[sign==0] = -1 # above or below diagonal?\n",
    "#   # next line just implements distance calculation. maybe not efficient.\n",
    "#   return np.sum(sign*np.linalg.norm(np.diag(np.dot(q.T, ones))/2.*ones - q, axis=0)**2)\n",
    "  \n",
    "# def mean_curvature_osculating(signal_in, filt_freq=None):\n",
    "#   \"\"\"\n",
    "#     mean curvature based on get_curvature() function, which fits an osculating circle to three consecutive points\n",
    "#     used mostly for sanity checking: making sure the actual mean_curvature() function is giving correct results\n",
    "#     which it is. so, time to remove this. \n",
    "#   \"\"\"\n",
    "#   if filt_freq is not None:\n",
    "#     from scipy import signal\n",
    "#     b, a = signal.butter(4, filt_freq)\n",
    "#     signal_in = signal.filtfilt(b, a, signal_in, axis=0)\n",
    "\n",
    "#   C = signal_in.shape[1]\n",
    "#   k = np.zeros(signal_in.shape[:-1])\n",
    "#   for c in range(C):\n",
    "#     k[:, c] = get_curvature_osc(signal_in[:, c, :])\n",
    "#   k[k==0] = np.nan\n",
    "#   return np.nanmean(k, axis=(0,1))\n",
    "  \n",
    "# def normalize_path(signal_in, filt_freq=0.3):\n",
    "#   \"\"\"\n",
    "#     normalizes path to length 1\n",
    "#     normalizes across all conditions/batches (TODO: change this?)\n",
    "#   \"\"\"\n",
    "#   return signal_in/np.sum(get_path_length(signal_in, filt_freq=filt_freq))\n",
    "  \n",
    "# def mean_curvature(signal_in, total_points=11, deg=4, normalize=False):\n",
    "#   \"\"\"\n",
    "#     mean curvature based on get_generalized_curvature() function\n",
    "#   \"\"\"\n",
    "#   if normalize:\n",
    "#     signal_in = normalize_path(signal_in)\n",
    "#   C = signal_in.shape[1]\n",
    "#   k = np.zeros(signal_in.shape[:-1]+(deg-1,))\n",
    "#   for c in range(C):\n",
    "#     k[:, c, :], _ = get_generalized_curvature(signal_in[:, c, :], total_points, deg)\n",
    "#   k[k==0] = np.nan\n",
    "#   return np.nanmean(k, axis=(0,1))\n",
    "\n",
    "# def get_participation_ratio(signal_in):\n",
    "#   \"\"\"\n",
    "#     Participation ratio is an approximate measure of dimensionality.\n",
    "#     PR = sum(evs)**2/sum(evs**2)\n",
    "#     where evs are the eigenvalues of the covariance matrix of signal_in\n",
    "#     signal_in is shape (T, batch_size, n), which is reshaped to (T*batch_size, n)\n",
    "#     the covariance matrix is size (n, n)\n",
    "#   \"\"\"\n",
    "#   signal_in = np.reshape(signal_in, [-1, signal_in.shape[-1]], order='F')\n",
    "#   Cov = np.cov(signal_in.T)\n",
    "#   eigvals = np.linalg.eigvals(Cov)\n",
    "#   return np.sum(eigvals)**2/np.sum(eigvals**2)\n",
    "\n",
    "# def tanh(x):\n",
    "#   return (np.exp(x) - np.exp(-x))/(np.exp(x) + np.exp(-x))\n",
    "# def dtanh(x):\n",
    "#   ''' derivative of tanh() '''\n",
    "#   return 1. - tanh(x)**2\n",
    "\n",
    "# def get_jacobian(sim):\n",
    "#   \"\"\"\n",
    "#     get the jacobian matrix of the RNN\n",
    "#     output: J, a function that takes x, u as vector inputs and returns the jacobian evaluated at those points\n",
    "#   \"\"\"\n",
    "#   # get A, B\n",
    "#   TF_PATH = RUN+'tfsaves/'+str(sim)\n",
    "#   tf.reset_default_graph()\n",
    "#   with tf.Session() as sess:\n",
    "#     new_saver = tf.train.import_meta_graph(TF_PATH+'.meta')\n",
    "#     new_saver.restore(sess, TF_PATH)\n",
    "#     # Get Mat variable\n",
    "#     Mat = sess.run([v for v in tf.global_variables() if v.name == 'RNN/BasicRNNCell/Linear/Matrix:0'][0])\n",
    "#     A = Mat[2:]\n",
    "#     B = Mat[:2]\n",
    "#   def J(x, u):\n",
    "#     return np.dot(A, np.diag(dtanh(np.dot(A.T, x) + np.dot(B.T, u))))\n",
    "#   return J\n",
    "\n",
    "# def get_sum_of_jacobians(sim, x_in, u_in, norm='fro', squared=True):\n",
    "#   \"\"\"\n",
    "#     get the jacobian and evaluate it at every point in x_in (T, batch_size, n).\n",
    "#     take the norm of the jacobian using `norm` (use 'trace' to caculate divergence)\n",
    "#     average across T and batch_size.\n",
    "#   \"\"\"\n",
    "#   J = get_jacobian(sim)\n",
    "#   R = 0\n",
    "#   for t in range(x_in.shape[0]):\n",
    "#     for c in range(x_in.shape[1]):\n",
    "#       J_ = J(x_in[t, c, :], u_in[t, c, :])\n",
    "#       if norm == 'trace':\n",
    "#         R_ = np.trace(J_)\n",
    "#       else:\n",
    "#         R_ = np.linalg.norm(J_, norm)\n",
    "#       if squared:\n",
    "#         R_ = R_**2 \n",
    "#       R += R_\n",
    "#   R = np.true_divide(R, np.prod(x_in.shape[:2]))\n",
    "#   return R\n",
    "\n"
   ]
  },
  {
   "cell_type": "markdown",
   "metadata": {},
   "source": [
    "# Signal error functions\n",
    "Functions that return the error between signals `x` and `y` of shapes `(time, batch_size, dimension)`."
   ]
  },
  {
   "cell_type": "code",
   "execution_count": 18,
   "metadata": {
    "collapsed": true
   },
   "outputs": [],
   "source": [
    "# # signal errors\n",
    "# def r2_sigerr(x, y):\n",
    "#   \"\"\" R_squared of two signals\"\"\"\n",
    "#   err = metrics.r2_score(np.reshape(y, [-1, y.shape[-1]]),\n",
    "#                          np.reshape(x, [-1, x.shape[-1]]), multioutput='uniform_average')\n",
    "#   return err\n",
    "\n",
    "# def mse_sigerr(x, y):\n",
    "#   \"\"\" MSE of two signals \"\"\"\n",
    "#   return np.mean((x - y)**2)\n",
    "\n",
    "# # Rpy2 stuff\n",
    "# import rpy2.robjects.numpy2ri\n",
    "# from rpy2.robjects.packages import importr\n",
    "# rpy2.robjects.numpy2ri.activate()\n",
    "# # Set up our R namespaces\n",
    "# R = rpy2.robjects.r\n",
    "# DTW = importr('dtw')\n",
    "# def dtw_sigerr_R(x, y):\n",
    "#   \"\"\" dynamic time warping error (R package) \"\"\"\n",
    "#   dist = []\n",
    "#   idx1 = []\n",
    "#   idx2 = []\n",
    "#   for c in range(x.shape[1]):\n",
    "#     alignment = R.dtw(np.squeeze(x[:, c, :]), np.squeeze(y[:, c, :]), keep=False, window='none', step=DTW.asymmetric)\n",
    "#     dist.append(alignment.rx('distance')[0][0])\n",
    "#     idx1.append(np.array(alignment.rx('index1')[0]).astype('int')-1)\n",
    "#     idx2.append(np.array(alignment.rx('index2')[0]).astype('int')-1)\n",
    "#   #Now get R2\n",
    "#   x_ = []\n",
    "#   y_ = []\n",
    "#   for c in range(x.shape[1]):\n",
    "#     x_.append(x[path[c][0], c, :])\n",
    "#     y_.append(y[path[c][1], c, :])\n",
    "#   x_ = np.concatenate(x_)\n",
    "#   y_ = np.concatenate(y_)\n",
    "#   err = r2_sigerr(x_, y_)\n",
    "#   return np.mean(dist), err\n",
    "\n",
    "# def dtw_sigerr_P(x, y):\n",
    "#   \"\"\" dynamic time warping error (python package) \"\"\"\n",
    "#   def mydist(x, y):\n",
    "#     return np.linalg.norm(x-y, ord=np.inf)\n",
    "#   dist = []\n",
    "#   path = []\n",
    "#   for c in range(x.shape[1]):\n",
    "#     dist_, cost, acc, path_ = dtw(np.squeeze(x[:,c,:]), np.squeeze(y[:,c,:]), dist=mydist)\n",
    "#     dist.append(dist_)\n",
    "#     path.append(path_)\n",
    "  \n",
    "#   x_ = []\n",
    "#   y_ = []\n",
    "#   for c in range(x.shape[1]):\n",
    "#     x_.append(x[path[c][0], c, :])\n",
    "#     y_.append(y[path[c][1], c, :])\n",
    "#   x_ = np.concatenate(x_)\n",
    "#   y_ = np.concatenate(y_)\n",
    "#   err = r2_sigerr(x_, y_)\n",
    "#   return np.mean(dist), err\n"
   ]
  },
  {
   "cell_type": "markdown",
   "metadata": {},
   "source": [
    "# Simulation-related functions"
   ]
  },
  {
   "cell_type": "code",
   "execution_count": 19,
   "metadata": {
    "collapsed": false
   },
   "outputs": [],
   "source": [
    "def get_full_data(cur_params):\n",
    "  \"\"\"\n",
    "    returns u_data, y_data for tensorflow's feed_dict.\n",
    "  \"\"\"\n",
    "  path_prefix = '/Users/jeff/Documents/Python/_projects/cyclingRNN/'\n",
    "  if cur_params['monkey']=='D':\n",
    "    data = sio.loadmat(path_prefix+'drakeFeb.mat')\n",
    "  else:\n",
    "    data = sio.loadmat(path_prefix+'cousFeb.mat')\n",
    "\n",
    "  # Built augmented data\n",
    "  emg2 = preprocess_array(data['D'][0, 0]['EMG'])\n",
    "  time_axis, time_inds1, time_inds2 = get_time_axis(data['D'][0, 0]['KIN'])\n",
    "  y_data1 = emg2[time_axis]\n",
    "  p = y_data1.shape[-1]\n",
    "\n",
    "  # Build inputs\n",
    "  m = 2\n",
    "  u_data1 = create_input_array(y_data1.shape)\n",
    "\n",
    "  # Augmented data\n",
    "  # For regularizing the network -- it must fit actual and augmented data\n",
    "  period = int(np.round(np.diff(time_inds2).mean()))\n",
    "  y_cat1 = augmented_data(emg2, time_inds1, period=period, tiles=10)\n",
    "  y_cat1 = y_cat1[::25]\n",
    "  y_cat2 = augmented_data(emg2, time_inds2, period=period, tiles=10)\n",
    "  y_cat2 = y_cat2[::25]\n",
    "\n",
    "  u_cat1 = create_input_array(y_cat1.shape)\n",
    "  u_cat2 = create_input_array(y_cat2.shape)\n",
    "\n",
    "  sequence_length = [y_data1.shape[0], y_cat1.shape[0], y_cat2.shape[0]]\n",
    "  y_data = np.zeros((np.max(sequence_length), 4*3, p))\n",
    "  u_data = np.zeros((np.max(sequence_length), 4*3, m))\n",
    "\n",
    "  y_data[:sequence_length[0], 0:4, :] = y_data1\n",
    "  y_data[:sequence_length[1], 4:8, :] = y_cat1\n",
    "  y_data[:sequence_length[2], 8:12, :] = y_cat2\n",
    "\n",
    "  u_data[:sequence_length[0], 0:4, :] = u_data1\n",
    "  u_data[:sequence_length[1], 4:8, :] = u_cat1\n",
    "  u_data[:sequence_length[2], 8:12, :] = u_cat2\n",
    "  return u_data, y_data\n",
    "\n",
    "def mean_squared_error(x, y):\n",
    "  return np.mean((x - y)**2)\n",
    "\n",
    "def get_noise_sim(stddev_struct, stddev_state, RUN, sim, y_data, u_data):\n",
    "  \"\"\"\n",
    "    loads TF model. Then simulates it again, but with noise\n",
    "    stddev_struct: std dev of structural perturbation on weight matrix\n",
    "    stddev_state: std dev of additive noise to each neuron\n",
    "    RUN: directory of the current run\n",
    "    sim: integer for the simulation\n",
    "    y_data, u_data: reference data for feed_dict\n",
    "  \"\"\"\n",
    "  TF_PATH = RUN+'tfsaves/'+str(sim)\n",
    "  tf.reset_default_graph()\n",
    "  with tf.Session() as sess:\n",
    "    new_saver = tf.train.import_meta_graph(TF_PATH+'.meta')\n",
    "    new_saver.restore(sess, TF_PATH)\n",
    "    # Get Mat variable\n",
    "    Mat = sess.run([v for v in tf.global_variables() if v.name == 'RNN/BasicRNNCellNoise/Linear/Matrix:0'][0])\n",
    "    A = Mat[2:]\n",
    "    B = Mat[:2]\n",
    "    newMat = np.zeros(Mat.shape)\n",
    "    newMat[:2] = B\n",
    "    newMat[2:] = A + stddev_struct*np.random.randn(A.shape[0], A.shape[1])\n",
    "    sess.run([v for v in tf.global_variables() if v.name == 'RNN/BasicRNNCellNoise/Linear/Matrix:0'][0].assign(newMat))\n",
    "    feed_dict = {'Y:0': y_data, 'U:0': u_data, 'stddev_state:0': stddev_state}\n",
    "    y_hat, x_hat, loss = sess.run(['Y_hat:0', 'RNN/TensorArrayPack_1/TensorArrayGatherV2:0', 'cost1:0'], feed_dict)\n",
    "  return y_hat, x_hat, loss\n",
    "\n",
    "def get_noise_robustness(sim, y_data, u_data, conds, emg, err_f=sigerr.mse_sigerr, dtw_err=False, num=10, trials=4):\n",
    "  \"\"\"\n",
    "    gradually increases noise until error (R squared) drops below 0.5\n",
    "    tests for both state noise robustness as well as structural robustness\n",
    "    - state noise robustness: noise of strength sdtdev_state injected into neurons during simulation\n",
    "    - structural robustness: apply a single noisy perturbation to the matrix A then simulate\n",
    "    sim: int. which simulation to use.\n",
    "    y_data, u_data: reference data for feed_dict\n",
    "    num: input for np.logspace(), number of stddevs...\n",
    "    \n",
    "  \"\"\"\n",
    "  \n",
    "  TF_PATH = RUN+'tfsaves/'+str(sim)\n",
    "  tf.reset_default_graph()\n",
    "  with tf.Session() as sess:\n",
    "    new_saver = tf.train.import_meta_graph(TF_PATH+'.meta')\n",
    "    new_saver.restore(sess, TF_PATH)\n",
    "    # Get Mat variable\n",
    "    Mat = sess.run([v for v in tf.global_variables() if v.name == 'RNN/BasicRNNCellNoise/Linear/Matrix:0'][0])\n",
    "    A = Mat[2:]\n",
    "    B = Mat[:2]\n",
    "\n",
    "    errors_state = np.zeros((num, trials))\n",
    "    errors_struct = np.zeros((num, trials))\n",
    "    \n",
    "    stddev_struct = 0.\n",
    "    stddev_state = 0.\n",
    "    for i_state, stddev_state in enumerate(tqdm(np.logspace(-1.1, 2, num=num), desc='std dev state', leave=False)):\n",
    "      for tr in range(trials):\n",
    "        newMat = np.zeros(Mat.shape)\n",
    "        newMat[:2] = B\n",
    "        newMat[2:] = A + stddev_struct*np.random.randn(A.shape[0], A.shape[1])\n",
    "        sess.run([v for v in tf.global_variables() if v.name == 'RNN/BasicRNNCellNoise/Linear/Matrix:0'][0].assign(newMat))\n",
    "        feed_dict = {'Y:0': y_data, 'U:0': u_data, 'stddev_state:0': stddev_state}\n",
    "        y_hat = sess.run('Y_hat:0', feed_dict)\n",
    "        if dtw_err:\n",
    "          dist, err = err_f(y_hat[:emg.shape[0], conds, :], emg[:, conds, :])\n",
    "        else:\n",
    "          err = err_f(y_hat[:emg.shape[0], conds, :], emg[:, conds, :])\n",
    "        errors_state[i_state, tr] = err\n",
    "      if np.mean(errors_state[i_state, :]) < 0.5:\n",
    "        break\n",
    "\n",
    "    stddev_state_out = stddev_state\n",
    "    stddev_struct = 0.\n",
    "    stddev_state = 0.\n",
    "    for i_struct, stddev_struct in enumerate(tqdm(np.logspace(-2.1, 1, num=num), desc='std dev struct', leave=False)):\n",
    "      for tr in range(trials):\n",
    "        newMat = np.zeros(Mat.shape)\n",
    "        newMat[:2] = B\n",
    "        newMat[2:] = A + stddev_struct*np.random.randn(A.shape[0], A.shape[1])\n",
    "        sess.run([v for v in tf.global_variables() if v.name == 'RNN/BasicRNNCellNoise/Linear/Matrix:0'][0].assign(newMat))\n",
    "        feed_dict = {'Y:0': y_data, 'U:0': u_data, 'stddev_state:0': stddev_state}\n",
    "        y_hat = sess.run('Y_hat:0', feed_dict)\n",
    "        if dtw_err:\n",
    "          dist, err = err_f(y_hat[:emg.shape[0], conds, :], emg[:, conds, :])\n",
    "        else:\n",
    "          err = err_f(y_hat[:emg.shape[0], conds, :], emg[:, conds, :])\n",
    "        errors_struct[i_struct, tr] = err\n",
    "      if np.mean(errors_struct[i_struct, :]) < 0.5:\n",
    "        break\n",
    "  \n",
    "  return stddev_state_out, stddev_struct"
   ]
  },
  {
   "cell_type": "markdown",
   "metadata": {},
   "source": [
    "# Main run evaluation functions\n",
    "Functions for evaluating a set of simulations (a `RUN`) of different hyperparameters. Go through the folder associated with the `RUN` and do analyses, which are saved to a pandas dataframe."
   ]
  },
  {
   "cell_type": "code",
   "execution_count": 20,
   "metadata": {
    "collapsed": false
   },
   "outputs": [],
   "source": [
    "def evaluate_run(conds, RUN):\n",
    "  \"\"\"\n",
    "    Evaluate a RUN (all simulations) for a specified choice of conditions (conds)\n",
    "  \"\"\"\n",
    "  # Number of sims in RUN\n",
    "  total_sims = len([i for i in os.listdir(RUN+'mlsaves') if i!='.DS_Store'])\n",
    "  # Get monkey\n",
    "  cur_params = pickle.load(open(RUN+'npsaves/'+str(1)+'params.pickle', 'rb'))\n",
    "  # build input and output data\n",
    "  if cur_params['monkey']=='D':\n",
    "    data = sio.loadmat('/Users/jeff/Documents/Python/_projects/cyclingRNN/drakeFeb_processed.mat')\n",
    "  else:\n",
    "    data = sio.loadmat('/Users/jeff/Documents/Python/_projects/cyclingRNN/cousFeb_processed.mat')\n",
    "  emg = data['EMG']\n",
    "  m1 = data['M1']\n",
    "  u_full, emg_full = get_full_data(cur_params)\n",
    "\n",
    "  params = []\n",
    "  out_metrics = []\n",
    "  f = FloatProgress(min=1, max=(total_sims+1), description='Run: '+RUN+'. Condition: '+str(conds))\n",
    "  display(f)\n",
    "  for sim in range(1,total_sims+1):\n",
    "    f.value += 1\n",
    "    cur_params = pickle.load(open(RUN+'npsaves/'+str(sim)+'params.pickle', 'rb'))\n",
    "    x = np.load(RUN+'npsaves/'+str(sim)+'x.npy')\n",
    "    y = np.load(RUN+'npsaves/'+str(sim)+'y.npy')\n",
    "    # truncate to remove augmented data\n",
    "    x_trunc = x[:emg.shape[0], :emg.shape[1], :]\n",
    "    y_trunc = y[:emg.shape[0], :emg.shape[1], :]\n",
    "    u_trunc = create_input_array(y_trunc.shape)\n",
    "\n",
    "    # truncate conditions\n",
    "    x_trunc = x_trunc[:, conds, :]\n",
    "    y_trunc = y_trunc[:, conds, :]\n",
    "    u_trunc = u_trunc[:, conds, :]\n",
    "\n",
    "    emg_ = emg[:, conds, :]\n",
    "\n",
    "    # get params\n",
    "    params.append(cur_params)\n",
    "\n",
    "    mets = dict()\n",
    "    # Tangling\n",
    "    mets['percent_tangling'] = geo.percent_tangling(x_trunc,emg_) # note condition truncation on emg\n",
    "    mets['percent_tangling2'] = geo.percent_tangling(x_trunc,emg_,th=2) # note condition truncation on emg\n",
    "    mets['percent_tangling4'] = geo.percent_tangling(x_trunc,emg_,th=4) # note condition truncation on emg\n",
    "    mets['mean_tangling'] = geo.mean_tangling(x_trunc, alpha=0.01)\n",
    "    mets['distance_tangling'] = geo.dist_tangling(x_trunc, emg_, alpha=0.01)\n",
    "    \n",
    "    mets['path_length'] = np.sum(geo.get_path_length(x_trunc, filt_freq=0.25))\n",
    "    mets['mean_curvature_osc'] = geo.mean_curvature_osculating(x_trunc, filt_freq=0.25)\n",
    "    mets['mean_curvature'] = geo.mean_curvature(x_trunc, total_points=11, deg=4, normalize=True)\n",
    "    \n",
    "    mets['jacobians'] = geo.get_sum_of_jacobians(sim, RUN, x_trunc, u_trunc, 'fro')\n",
    "    \n",
    "    mets['PR'] = geo.get_participation_ratio(x_trunc)\n",
    "    mets['MSE'] = metrics.mean_squared_error(np.reshape(emg_, [-1,emg_.shape[-1]]),\n",
    "                                              np.reshape(y_trunc, [-1, y_trunc.shape[-1]]), multioutput='uniform_average') # condition truncation on emg\n",
    "    mets['R2'] = metrics.r2_score(np.reshape(emg_, [-1, emg_.shape[-1]]),\n",
    "                                  np.reshape(y_trunc, [-1, y_trunc.shape[-1]]), multioutput='uniform_average') # condition truncation on emg\n",
    "    \n",
    "    err_fun = sigerr.dtw_sigerr_P\n",
    "    mets['noise_robustness'], mets['struct_robustness'] = get_noise_robustness(sim, emg_full, u_full,\n",
    "                                                                               conds, emg, err_fun, dtw_err=True, num=80, trials=4)\n",
    "    out_metrics.append(mets)\n",
    "    \n",
    "  return params, out_metrics"
   ]
  },
  {
   "cell_type": "code",
   "execution_count": 21,
   "metadata": {
    "collapsed": true
   },
   "outputs": [],
   "source": [
    "def process_dataframe(params, out_metrics):\n",
    "  \"\"\"\n",
    "    panda panda panda\n",
    "  \"\"\"\n",
    "  # join params and metrics into one dataframe\n",
    "  df = pd.DataFrame(params)\n",
    "  metrics_df = pd.DataFrame(out_metrics)\n",
    "  df = df.join(metrics_df)\n",
    "  \n",
    "  # remove bad fits\n",
    "  inds = df['R2'] > 0.5\n",
    "  df = df[inds]\n",
    "  \n",
    "  #Split the generalized curvature columns into multiple columns, one for each curvature\n",
    "  mc = df['mean_curvature'].apply(pd.Series)\n",
    "  mc.rename(columns={0: 'mean_curvature'}, inplace=True)\n",
    "  mc.rename(columns={1: 'mean_torsion'}, inplace=True)\n",
    "  mc = mc[['mean_curvature', 'mean_torsion']]\n",
    "  df = df.drop('mean_curvature', 1)\n",
    "  df = df.join(mc)\n",
    "  \n",
    "  return df"
   ]
  },
  {
   "cell_type": "markdown",
   "metadata": {},
   "source": [
    "# Run hyperparameter analysis \n",
    "Now loop through a set of `RUN`s, create and save the summary dataframes. Takes a long time. Grab a ☕\n",
    "\n",
    "Additional option to loop through a set of conditions (batches), necessary for seeing if there is any discernable difference in results when analyzing just forward `[0,1]`, just backward `[2,3]`, or forward + backward `[0,1,2,3]`."
   ]
  },
  {
   "cell_type": "code",
   "execution_count": null,
   "metadata": {
    "collapsed": false
   },
   "outputs": [
    {
     "name": "stderr",
     "output_type": "stream",
     "text": [
      "../cyclingrnn/geometric.py:213: RuntimeWarning: invalid value encountered in sqrt\n",
      "  return np.sqrt(np.linalg.norm(a)**2*np.linalg.norm(b)**2 - np.dot(a, b)**2)\n",
      "../cyclingrnn/geometric.py:218: RuntimeWarning: divide by zero encountered in double_scalars\n",
      "  r = np.linalg.norm(A)*np.linalg.norm(B)*np.linalg.norm(A-B)/(2*cross_id2(A, B))\n",
      "std dev state:   5%|▌         | 4/80 [00:05<01:52,  1.47s/it]"
     ]
    }
   ],
   "source": [
    "RUNset = ['../saves/170208D/', '../saves/170208C/']\n",
    "condset = [[0,1], [0,1,2,3]]\n",
    "\n",
    "for RUN in RUNset:\n",
    "  for conds in condset:\n",
    "    params, out_metrics = evaluate_run(conds, RUN)\n",
    "    df = process_dataframe(params, out_metrics)\n",
    "    pickle.dump(df, open(RUN+'df'+''.join(map(str,conds))+'.pickle', 'wb'))"
   ]
  },
  {
   "cell_type": "markdown",
   "metadata": {},
   "source": [
    "# Visualize results"
   ]
  },
  {
   "cell_type": "code",
   "execution_count": null,
   "metadata": {
    "collapsed": false
   },
   "outputs": [],
   "source": [
    "df_path = '../saves/1-12-D/df0123.pickle'\n",
    "df = pickle.load(open(df_path))"
   ]
  },
  {
   "cell_type": "code",
   "execution_count": null,
   "metadata": {
    "collapsed": false,
    "scrolled": true
   },
   "outputs": [],
   "source": [
    "# Display columns\n",
    "df.columns"
   ]
  },
  {
   "cell_type": "code",
   "execution_count": null,
   "metadata": {
    "collapsed": false,
    "scrolled": false
   },
   "outputs": [],
   "source": [
    "cols = [u'beta1', u'beta2', u'stddev_state'] # hyperparameters of the model\n",
    "exclude = [u'monkey', u'num_neurons', u'activation', u'stddev_out'] # exclude these\n",
    "rows = list(set(df.columns) - set(cols) - set(exclude)) # everything else\n",
    "logx = [u'beta1', u'beta2', u'stddev_state'] # which cols get a log xscale\n",
    "\n",
    "num_cols = len(cols)\n",
    "num_rows = len(rows)\n",
    "\n",
    "fact = 4\n",
    "f, ax = plt.subplots(num_rows, num_cols, figsize=(fact*num_cols,fact*num_rows), sharey=False, sharex=False)\n",
    "\n",
    "for ir, row in enumerate(rows):\n",
    "  for ic, col,  in enumerate(cols):\n",
    "    logx_bool = col in logx\n",
    "    if logx_bool:\n",
    "      ax[ir, ic].set_xscale('log', basex=10)\n",
    "    sns.regplot(col, row, df, logx=logx_bool, ax=ax[ir, ic], truncate=False)\n",
    "    if ir < num_rows-1:\n",
    "      ax[ir, ic].xaxis.label.set_visible(False)\n",
    "    if ic > 0:\n",
    "      ax[ir, ic].yaxis.label.set_visible(False)\n",
    "      \n",
    "    d_range = df[row].max() - df[row].min()\n",
    "    ax[ir, ic].set_ylim([df[row].min()-0.1*d_range, df[row].max()+0.1*d_range])\n",
    "    ax[ir, ic].set_xlim([df[col].min(), df[col].max()])\n",
    "      \n",
    "plt.show()"
   ]
  },
  {
   "cell_type": "code",
   "execution_count": null,
   "metadata": {
    "collapsed": false
   },
   "outputs": [],
   "source": [
    "f, ax = plt.subplots(1,1,figsize=(4,4))\n",
    "sns.regplot('mean_tangling', 'struct_robustness', df, ax=ax)"
   ]
  },
  {
   "cell_type": "code",
   "execution_count": null,
   "metadata": {
    "collapsed": false
   },
   "outputs": [],
   "source": [
    "f, ax = plt.subplots(2,2, figsize=(10,10))\n",
    "f.suptitle('Monkey '+df.monkey.iloc[0])\n",
    "sns.regplot('mean_tangling', 'noise_robustness', df, ax=ax[0,0])\n",
    "sns.regplot('mean_tangling', 'struct_robustness', df, ax=ax[0,1])\n",
    "sns.regplot('distance_tangling', 'noise_robustness', df, ax=ax[1,0])\n",
    "sns.regplot('distance_tangling', 'struct_robustness', df, ax=ax[1,1])"
   ]
  },
  {
   "cell_type": "code",
   "execution_count": null,
   "metadata": {
    "collapsed": true
   },
   "outputs": [],
   "source": []
  },
  {
   "cell_type": "markdown",
   "metadata": {
    "collapsed": true
   },
   "source": [
    "# doodle doodle"
   ]
  },
  {
   "cell_type": "code",
   "execution_count": 22,
   "metadata": {
    "collapsed": true
   },
   "outputs": [],
   "source": [
    "cur_params = {}\n",
    "cur_params['monkey'] = 'D'"
   ]
  },
  {
   "cell_type": "code",
   "execution_count": 33,
   "metadata": {
    "collapsed": true
   },
   "outputs": [],
   "source": [
    "u_data, y_data = get_full_data(cur_params)\n",
    "if cur_params['monkey']=='D':\n",
    "  data = sio.loadmat('/Users/jeff/Documents/Python/_projects/cyclingRNN/drakeFeb_processed.mat')\n",
    "else:\n",
    "  data = sio.loadmat('/Users/jeff/Documents/Python/_projects/cyclingRNN/cousFeb_processed.mat')\n",
    "emg = data['EMG']\n",
    "m1 = data['M1']"
   ]
  },
  {
   "cell_type": "code",
   "execution_count": 44,
   "metadata": {
    "collapsed": false
   },
   "outputs": [],
   "source": [
    "q_m1 = geo.tangling(m1)\n",
    "q_emg = geo.tangling(emg)"
   ]
  },
  {
   "cell_type": "code",
   "execution_count": null,
   "metadata": {
    "collapsed": true
   },
   "outputs": [],
   "source": [
    "plt.plot"
   ]
  },
  {
   "cell_type": "code",
   "execution_count": 78,
   "metadata": {
    "collapsed": false
   },
   "outputs": [
    {
     "data": {
      "text/plain": [
       "1.0"
      ]
     },
     "execution_count": 78,
     "metadata": {},
     "output_type": "execute_result"
    }
   ],
   "source": [
    "th = 5\n",
    "geo.percent_tangling(m1, emg, th=th)"
   ]
  },
  {
   "cell_type": "code",
   "execution_count": 103,
   "metadata": {
    "collapsed": false
   },
   "outputs": [
    {
     "name": "stdout",
     "output_type": "stream",
     "text": [
      "0.905063291139\n"
     ]
    },
    {
     "data": {
      "image/png": "[encoded data removed]",
      "text/plain": [
       "<matplotlib.figure.Figure at 0x122da50d0>"
      ]
     },
     "metadata": {},
     "output_type": "display_data"
    }
   ],
   "source": [
    "th = 1.5\n",
    "percent = geo.percent_tangling(m1, emg, th=th)\n",
    "print percent\n",
    "plt.scatter(q_emg, q_m1)\n",
    "plt.plot([0, 3500], [0, 3500])\n",
    "plt.plot([0, 3500], [0, 1./th*3500.])\n",
    "plt.axis('square')\n",
    "plt.xlim([0, 3500])\n",
    "plt.ylim([0, 3500])\n",
    "plt.show()"
   ]
  },
  {
   "cell_type": "code",
   "execution_count": 192,
   "metadata": {
    "collapsed": false
   },
   "outputs": [],
   "source": [
    "x = np.copy(m1[:,:,np.random.randint(0, 100, size=20)])\n",
    "y = np.copy(emg[:,:,np.random.randint(0, 36, size=20)])\n",
    "\n",
    "import rpy2.robjects.numpy2ri\n",
    "from rpy2.robjects.packages import importr\n",
    "rpy2.robjects.numpy2ri.activate()\n",
    "# Set up our R namespaces\n",
    "R = rpy2.robjects.r\n",
    "DTW = importr('dtw')\n",
    "\n",
    "dist = []\n",
    "idx1 = []\n",
    "idx2 = []\n",
    "for c in range(x.shape[1]):\n",
    "  alignment = R.dtw(np.squeeze(x[:, c, :]), np.squeeze(y[:, c, :]), keep=False, window='none', step=DTW.asymmetric)\n",
    "  dist.append(alignment.rx('distance')[0][0])\n",
    "  idx1.append(np.array(alignment.rx('index1')[0]).astype('int')-1)\n",
    "  idx2.append(np.array(alignment.rx('index2')[0]).astype('int')-1)\n",
    "#Now get R2\n",
    "x_ = []\n",
    "y_ = []\n",
    "for c in range(x.shape[1]):\n",
    "  x_.append(x[path[c][0][5:-5], c, :])\n",
    "  y_.append(y[path[c][1][5:-5], c, :])\n",
    "x_ = np.concatenate(x_)\n",
    "y_ = np.concatenate(y_)\n",
    "err = sigerr.r2_sigerr(x_, y_)"
   ]
  },
  {
   "cell_type": "code",
   "execution_count": 232,
   "metadata": {
    "collapsed": false
   },
   "outputs": [
    {
     "data": {
      "text/plain": [
       "(80, 5)"
      ]
     },
     "execution_count": 232,
     "metadata": {},
     "output_type": "execute_result"
    }
   ],
   "source": [
    "np.squeeze(x[:,c,:]).shape"
   ]
  },
  {
   "cell_type": "code",
   "execution_count": 249,
   "metadata": {
    "collapsed": true
   },
   "outputs": [],
   "source": [
    "def mydist(x, y):\n",
    "  return np.linalg.norm(x-y)"
   ]
  },
  {
   "cell_type": "code",
   "execution_count": 244,
   "metadata": {
    "collapsed": false
   },
   "outputs": [
    {
     "data": {
      "text/plain": [
       "0.50032866375917817"
      ]
     },
     "execution_count": 244,
     "metadata": {},
     "output_type": "execute_result"
    }
   ],
   "source": [
    "mydist(np.squeeze(x[:,c,:]), np.squeeze(y[:,c,:]))"
   ]
  },
  {
   "cell_type": "code",
   "execution_count": null,
   "metadata": {
    "collapsed": true
   },
   "outputs": [],
   "source": []
  },
  {
   "cell_type": "code",
   "execution_count": 246,
   "metadata": {
    "collapsed": false
   },
   "outputs": [
    {
     "data": {
      "text/plain": [
       "80"
      ]
     },
     "execution_count": 246,
     "metadata": {},
     "output_type": "execute_result"
    }
   ],
   "source": [
    "len(np.squeeze(x[:,c,:]))"
   ]
  },
  {
   "cell_type": "code",
   "execution_count": 250,
   "metadata": {
    "collapsed": false
   },
   "outputs": [],
   "source": [
    "x = np.copy(m1[:,:,np.random.randint(0, 50, size=5)])\n",
    "y = np.copy(emg[:,:,np.random.randint(0, 36, size=5)])\n",
    "dist = []\n",
    "path = []\n",
    "for c in range(x.shape[1]):\n",
    "  dist_, cost, acc, path_ = dtw(np.squeeze(x[:,c,:]), np.squeeze(y[:,c,:]), dist=mydist)\n",
    "  dist.append(dist_)\n",
    "  path.append(path_)\n"
   ]
  },
  {
   "cell_type": "code",
   "execution_count": null,
   "metadata": {
    "collapsed": true
   },
   "outputs": [],
   "source": [
    "dtw()"
   ]
  },
  {
   "cell_type": "code",
   "execution_count": 251,
   "metadata": {
    "collapsed": false
   },
   "outputs": [
    {
     "data": {
      "image/png": "[encoded data removed]",
      "text/plain": [
       "<matplotlib.figure.Figure at 0x1275faf50>"
      ]
     },
     "metadata": {},
     "output_type": "display_data"
    }
   ],
   "source": [
    "for c in range(x.shape[1]):\n",
    "  plt.plot(path[c][0])\n",
    "plt.show()"
   ]
  },
  {
   "cell_type": "code",
   "execution_count": 46,
   "metadata": {
    "collapsed": false
   },
   "outputs": [
    {
     "data": {
      "text/plain": [
       "[<matplotlib.lines.Line2D at 0x11b1d9750>,\n",
       " <matplotlib.lines.Line2D at 0x11f1c0390>,\n",
       " <matplotlib.lines.Line2D at 0x11f1c0490>,\n",
       " <matplotlib.lines.Line2D at 0x11f1c0590>]"
      ]
     },
     "execution_count": 46,
     "metadata": {},
     "output_type": "execute_result"
    },
    {
     "data": {
      "image/png": "[encoded data removed]",
      "text/plain": [
       "<matplotlib.figure.Figure at 0x11b1d9250>"
      ]
     },
     "metadata": {},
     "output_type": "display_data"
    }
   ],
   "source": [
    "plt.plot(q_m1)\n",
    "plt.plot(q_emg,'--')"
   ]
  }
 ],
 "metadata": {
  "kernelspec": {
   "display_name": "Python 2",
   "language": "python",
   "name": "python2"
  },
  "language_info": {
   "codemirror_mode": {
    "name": "ipython",
    "version": 2
   },
   "file_extension": ".py",
   "mimetype": "text/x-python",
   "name": "python",
   "nbconvert_exporter": "python",
   "pygments_lexer": "ipython2",
   "version": "2.7.12"
  }
 },
 "nbformat": 4,
 "nbformat_minor": 0
}
