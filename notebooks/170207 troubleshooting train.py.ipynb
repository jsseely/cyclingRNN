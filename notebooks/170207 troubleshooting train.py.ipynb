{
 "cells": [
  {
   "cell_type": "code",
   "execution_count": 1,
   "metadata": {
    "collapsed": false
   },
   "outputs": [],
   "source": [
    "%reset -f\n",
    "%matplotlib inline\n",
    "%load_ext autoreload\n",
    "%autoreload 2"
   ]
  },
  {
   "cell_type": "code",
   "execution_count": 2,
   "metadata": {
    "collapsed": false
   },
   "outputs": [],
   "source": [
    "import sys\n",
    "sys.path.append('../')"
   ]
  },
  {
   "cell_type": "code",
   "execution_count": 3,
   "metadata": {
    "collapsed": true
   },
   "outputs": [],
   "source": [
    "import sys\n",
    "import os\n",
    "import numpy as np\n",
    "import scipy.io as sio\n",
    "import pickle\n",
    "from cyclingrnn.train import train_rnn\n",
    "import tensorflow as tf\n",
    "from scipy import signal\n",
    "import matplotlib.pyplot as plt"
   ]
  },
  {
   "cell_type": "code",
   "execution_count": 4,
   "metadata": {
    "collapsed": true
   },
   "outputs": [],
   "source": [
    "CUR_RUN = '170208test'"
   ]
  },
  {
   "cell_type": "code",
   "execution_count": 5,
   "metadata": {
    "collapsed": true
   },
   "outputs": [],
   "source": [
    "NPSAVE_PATH = '../saves/'+CUR_RUN+'/npsaves/'\n",
    "TFSAVE_PATH = '../saves/'+CUR_RUN+'/tfsaves/'\n",
    "MLSAVE_PATH = '../saves/'+CUR_RUN+'/mlsaves/'\n",
    "TB_PATH = '../saves/'+CUR_RUN+'/tb/'\n",
    "\n",
    "def make_dir(path):\n",
    "  \"\"\"like os.makedirs(path) but avoids race conditions\"\"\"\n",
    "  try:\n",
    "    os.makedirs(path)\n",
    "  except OSError:\n",
    "    if not os.path.isdir(path):\n",
    "      raise\n",
    "\n",
    "make_dir(NPSAVE_PATH)\n",
    "make_dir(TFSAVE_PATH)\n",
    "make_dir(MLSAVE_PATH)"
   ]
  },
  {
   "cell_type": "code",
   "execution_count": 6,
   "metadata": {
    "collapsed": true
   },
   "outputs": [],
   "source": [
    "CUR_SIM = 0\n",
    "y=[]\n",
    "x=[]"
   ]
  },
  {
   "cell_type": "code",
   "execution_count": 7,
   "metadata": {
    "collapsed": false
   },
   "outputs": [
    {
     "name": "stdout",
     "output_type": "stream",
     "text": [
      "  iter: 0000   Loss: 3.546582\n",
      "  iter: 0500   Loss: 0.391421\n",
      "  iter: 1000   Loss: 0.384612\n",
      "  iter: 1500   Loss: 0.253058\n",
      "  iter: 2000   Loss: 0.066571\n",
      "  iter: 2500   Loss: 0.034294\n",
      "  iter: 3000   Loss: 0.027781\n",
      "  iter: 3500   Loss: 0.024226\n",
      "  iter: 4000   Loss: 0.021194\n",
      "  iter: 4500   Loss: 0.019218\n",
      "  iter: 5000   Loss: 0.017922\n",
      "  iter: 5500   Loss: 0.017381\n",
      "  iter: 6000   Loss: 0.016254\n",
      "  iter: 6500   Loss: 0.015572\n",
      "  iter: 7000   Loss: 0.014933\n",
      "  iter: 7500   Loss: 0.015406\n",
      "  iter: 8000   Loss: 0.013818\n",
      "  iter: 8500   Loss: 0.013364\n",
      "  iter: 9000   Loss: 0.013031\n",
      "  iter: 9500   Loss: 0.012828\n",
      "  iter: 10000   Loss: 0.013083\n",
      "  Finished\n"
     ]
    }
   ],
   "source": [
    "CUR_SIM = CUR_SIM+1\n",
    "Y_TF, X_TF = train_rnn(monkey='D',\n",
    "                       beta1=0.,\n",
    "                       beta2=0.,\n",
    "                       stddev_state=0.01,\n",
    "                       stddev_out=0.,\n",
    "                       activation='tanh',\n",
    "                       rnn_init=None,\n",
    "                       num_neurons=40,\n",
    "                       learning_rate=0.0003,\n",
    "                       num_iters=10000,\n",
    "                       save_model_path='../saves/'+CUR_RUN+'/tfsaves/'+str(CUR_SIM),\n",
    "                       tb_path='../saves/'+CUR_RUN+'/tb/'+str(CUR_SIM),\n",
    "                       load_prev=False,\n",
    "                       load_model_path=None)"
   ]
  },
  {
   "cell_type": "code",
   "execution_count": 8,
   "metadata": {
    "collapsed": true
   },
   "outputs": [],
   "source": [
    "y.append(Y_TF)\n",
    "x.append(X_TF)"
   ]
  },
  {
   "cell_type": "code",
   "execution_count": 9,
   "metadata": {
    "collapsed": false
   },
   "outputs": [
    {
     "name": "stdout",
     "output_type": "stream",
     "text": [
      "  iter: 0000   Loss: 4.776055\n",
      "  iter: 0500   Loss: 0.397670\n",
      "  iter: 1000   Loss: 0.386530\n",
      "  iter: 1500   Loss: 0.376663\n",
      "  iter: 2000   Loss: 0.167707\n",
      "  iter: 2500   Loss: 0.163690\n",
      "  iter: 3000   Loss: 0.056281\n",
      "  iter: 3500   Loss: 0.050101\n",
      "  iter: 4000   Loss: 0.049627\n",
      "  iter: 4500   Loss: 0.049079\n",
      "  iter: 5000   Loss: 0.048884\n",
      "  iter: 5500   Loss: 0.048275\n",
      "  iter: 6000   Loss: 0.047964\n",
      "  iter: 6500   Loss: 0.047283\n",
      "  iter: 7000   Loss: 0.027999\n",
      "  iter: 7500   Loss: 0.027918\n",
      "  iter: 8000   Loss: 0.027888\n",
      "  iter: 8500   Loss: 0.027528\n",
      "  iter: 9000   Loss: 0.027544\n",
      "  iter: 9500   Loss: 0.027334\n",
      "  iter: 10000   Loss: 0.027292\n",
      "  Finished\n"
     ]
    }
   ],
   "source": [
    "CUR_SIM = CUR_SIM+1\n",
    "Y_TF, X_TF = train_rnn(monkey='D',\n",
    "                       beta1=0.,\n",
    "                       beta2=0.,\n",
    "                       stddev_state=0.,\n",
    "                       stddev_out=0.,\n",
    "                       activation='linear',\n",
    "                       rnn_init=None,\n",
    "                       num_neurons=40,\n",
    "                       learning_rate=0.0003,\n",
    "                       num_iters=10000,\n",
    "                       save_model_path='../saves/'+CUR_RUN+'/tfsaves/'+str(CUR_SIM),\n",
    "                       tb_path='../saves/'+CUR_RUN+'/tb/'+str(CUR_SIM),\n",
    "                       load_prev=False,\n",
    "                       load_model_path=None)"
   ]
  },
  {
   "cell_type": "code",
   "execution_count": null,
   "metadata": {
    "collapsed": true
   },
   "outputs": [],
   "source": [
    "y.append(Y_TF)\n",
    "x.append(X_TF)"
   ]
  },
  {
   "cell_type": "code",
   "execution_count": null,
   "metadata": {
    "collapsed": false
   },
   "outputs": [
    {
     "name": "stdout",
     "output_type": "stream",
     "text": [
      "  iter: 0000   Loss: 2.527617\n",
      "  iter: 0500   Loss: 0.389811\n",
      "  iter: 1000   Loss: 0.077308\n",
      "  iter: 1500   Loss: 0.047113\n",
      "  iter: 2000   Loss: 0.040063\n",
      "  iter: 2500   Loss: 0.033128\n",
      "  iter: 3000   Loss: 0.027062\n",
      "  iter: 3500   Loss: 0.021554\n",
      "  iter: 4000   Loss: 0.018837\n",
      "  iter: 4500   Loss: 0.017550\n",
      "  iter: 5000   Loss: 0.016519\n",
      "  iter: 5500   Loss: 0.015654\n",
      "  iter: 6000   Loss: 0.014947\n",
      "  iter: 6500   Loss: 0.014422\n",
      "  iter: 7000   Loss: 0.014118\n",
      "  iter: 7500   Loss: 0.013233\n",
      "  iter: 8000   Loss: 0.012187\n",
      "  iter: 8500   Loss: 0.011843\n",
      "  iter: 9000   Loss: 0.011906\n",
      "  iter: 9500   Loss: 0.012711\n",
      "  iter: 10000   Loss: 0.012110\n",
      "  Finished\n"
     ]
    }
   ],
   "source": [
    "CUR_SIM = CUR_SIM+1\n",
    "Y_TF, X_TF = train_rnn(monkey='D',\n",
    "                       beta1=0.,\n",
    "                       beta2=0.,\n",
    "                       stddev_state=0.,\n",
    "                       stddev_out=0.,\n",
    "                       activation='tanh',\n",
    "                       rnn_init='orth',\n",
    "                       num_neurons=40,\n",
    "                       learning_rate=0.0003,\n",
    "                       num_iters=10000,\n",
    "                       save_model_path='../saves/'+CUR_RUN+'/tfsaves/'+str(CUR_SIM),\n",
    "                       tb_path='../saves/'+CUR_RUN+'/tb/'+str(CUR_SIM),\n",
    "                       load_prev=False,\n",
    "                       load_model_path=None)"
   ]
  },
  {
   "cell_type": "code",
   "execution_count": null,
   "metadata": {
    "collapsed": true
   },
   "outputs": [],
   "source": [
    "y.append(Y_TF)\n",
    "x.append(X_TF)"
   ]
  },
  {
   "cell_type": "code",
   "execution_count": null,
   "metadata": {
    "collapsed": false
   },
   "outputs": [
    {
     "name": "stdout",
     "output_type": "stream",
     "text": [
      "  iter: 0000   Loss: 3.755042\n",
      "  iter: 0500   Loss: 0.394237\n",
      "  iter: 1000   Loss: 0.386217\n",
      "  iter: 1500   Loss: 0.214218\n",
      "  iter: 2000   Loss: 0.060310\n",
      "  iter: 2500   Loss: 0.038071\n",
      "  iter: 3000   Loss: 0.033472\n",
      "  iter: 3500   Loss: 0.031584\n",
      "  iter: 4000   Loss: 0.027220\n",
      "  iter: 4500   Loss: 0.023856\n",
      "  iter: 5000   Loss: 0.020896\n",
      "  iter: 5500   Loss: 0.019091\n",
      "  iter: 6000   Loss: 0.018062\n",
      "  iter: 6500   Loss: 0.017149\n",
      "  iter: 7000   Loss: 0.016258\n",
      "  iter: 7500   Loss: 0.015670\n",
      "  iter: 8000   Loss: 0.014769\n",
      "  iter: 8500   Loss: 0.014291\n",
      "  iter: 9000   Loss: 0.013921\n",
      "  iter: 9500   Loss: 0.013616\n",
      "  iter: 10000   Loss: 0.013367\n",
      "  Finished\n"
     ]
    }
   ],
   "source": [
    "CUR_SIM = CUR_SIM+1\n",
    "Y_TF, X_TF = train_rnn(monkey='D',\n",
    "                       beta1=0.,\n",
    "                       beta2=0.,\n",
    "                       stddev_state=0.,\n",
    "                       stddev_out=0.,\n",
    "                       activation='tanh',\n",
    "                       rnn_init='xavier',\n",
    "                       num_neurons=40,\n",
    "                       learning_rate=0.0003,\n",
    "                       num_iters=10000,\n",
    "                       save_model_path='../saves/'+CUR_RUN+'/tfsaves/'+str(CUR_SIM),\n",
    "                       tb_path='../saves/'+CUR_RUN+'/tb/'+str(CUR_SIM),\n",
    "                       load_prev=False,\n",
    "                       load_model_path=None)"
   ]
  },
  {
   "cell_type": "code",
   "execution_count": null,
   "metadata": {
    "collapsed": true
   },
   "outputs": [],
   "source": [
    "y.append(Y_TF)\n",
    "x.append(X_TF)"
   ]
  },
  {
   "cell_type": "code",
   "execution_count": null,
   "metadata": {
    "collapsed": false
   },
   "outputs": [
    {
     "name": "stdout",
     "output_type": "stream",
     "text": [
      "  iter: 0000   Loss: 3.183575\n",
      "  iter: 0500   Loss: 0.382121\n",
      "  iter: 1000   Loss: 0.378876\n",
      "  iter: 1500   Loss: 0.382205\n",
      "  iter: 2000   Loss: 0.384675\n",
      "  iter: 2500   Loss: 0.381221\n",
      "  iter: 3000   Loss: 0.381401\n",
      "  iter: 3500   Loss: 0.372944\n",
      "  iter: 4000   Loss: 0.376882\n",
      "  iter: 4500   Loss: 0.375436\n",
      "  iter: 5000   Loss: 0.372945\n",
      "  iter: 5500   Loss: 0.377034\n",
      "  iter: 6000   Loss: 0.378564\n",
      "  iter: 6500   Loss: 0.381411\n",
      "  iter: 7000   Loss: 0.381056\n",
      "  iter: 7500   Loss: 0.374980\n",
      "  iter: 8000   Loss: 0.370466\n",
      "  iter: 8500   Loss: 0.367584\n",
      "  iter: 9000   Loss: 0.357772\n",
      "  iter: 9500   Loss: 0.374161\n",
      "  iter: 10000   Loss: 0.371749\n",
      "  Finished\n"
     ]
    }
   ],
   "source": [
    "CUR_SIM = CUR_SIM+1\n",
    "Y_TF, X_TF = train_rnn(monkey='D',\n",
    "                       beta1=0.,\n",
    "                       beta2=0.,\n",
    "                       stddev_state=0.,\n",
    "                       stddev_out=0.,\n",
    "                       activation='tanh',\n",
    "                       rnn_init=None,\n",
    "                       num_neurons=40,\n",
    "                       learning_rate=0.003,\n",
    "                       num_iters=10000,\n",
    "                       save_model_path='../saves/'+CUR_RUN+'/tfsaves/'+str(CUR_SIM),\n",
    "                       tb_path='../saves/'+CUR_RUN+'/tb/'+str(CUR_SIM),\n",
    "                       load_prev=False,\n",
    "                       load_model_path=None)"
   ]
  },
  {
   "cell_type": "code",
   "execution_count": null,
   "metadata": {
    "collapsed": true
   },
   "outputs": [],
   "source": [
    "y.append(Y_TF)\n",
    "x.append(X_TF)"
   ]
  },
  {
   "cell_type": "markdown",
   "metadata": {},
   "source": [
    "-----------------"
   ]
  },
  {
   "cell_type": "code",
   "execution_count": null,
   "metadata": {
    "collapsed": true
   },
   "outputs": [],
   "source": []
  }
 ],
 "metadata": {
  "kernelspec": {
   "display_name": "Python 2",
   "language": "python",
   "name": "python2"
  },
  "language_info": {
   "codemirror_mode": {
    "name": "ipython",
    "version": 2
   },
   "file_extension": ".py",
   "mimetype": "text/x-python",
   "name": "python",
   "nbconvert_exporter": "python",
   "pygments_lexer": "ipython2",
   "version": "2.7.12"
  }
 },
 "nbformat": 4,
 "nbformat_minor": 0
}
