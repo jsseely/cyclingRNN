{
 "cells": [
  {
   "cell_type": "code",
   "execution_count": 324,
   "metadata": {
    "collapsed": false
   },
   "outputs": [
    {
     "name": "stdout",
     "output_type": "stream",
     "text": [
      "The autoreload extension is already loaded. To reload it, use:\n",
      "  %reload_ext autoreload\n"
     ]
    }
   ],
   "source": [
    "%reset -f\n",
    "%matplotlib inline\n",
    "%load_ext autoreload\n",
    "%autoreload 2"
   ]
  },
  {
   "cell_type": "code",
   "execution_count": 325,
   "metadata": {
    "collapsed": false
   },
   "outputs": [],
   "source": [
    "import sys\n",
    "sys.path.append('../')"
   ]
  },
  {
   "cell_type": "code",
   "execution_count": 428,
   "metadata": {
    "collapsed": true
   },
   "outputs": [],
   "source": [
    "import sys\n",
    "import os\n",
    "import numpy as np\n",
    "import scipy.io as sio\n",
    "import pickle\n",
    "from cyclingrnn.train import train_rnn"
   ]
  },
  {
   "cell_type": "code",
   "execution_count": 429,
   "metadata": {
    "collapsed": true
   },
   "outputs": [],
   "source": [
    "import os\n",
    "import numpy as np\n",
    "import tensorflow as tf\n",
    "import scipy.io as sio\n",
    "from scipy import signal\n",
    "from cyclingrnn.custom_rnn_cells import BasicRNNCellNoise\n"
   ]
  },
  {
   "cell_type": "code",
   "execution_count": 328,
   "metadata": {
    "collapsed": true
   },
   "outputs": [],
   "source": [
    "import matplotlib.pyplot as plt"
   ]
  },
  {
   "cell_type": "code",
   "execution_count": 329,
   "metadata": {
    "collapsed": false
   },
   "outputs": [
    {
     "name": "stdout",
     "output_type": "stream",
     "text": [
      "Current Run: testA\n",
      "{'beta1': 0.00020132628250269814, 'monkey': 'D', 'num_neurons': 83, 'stddev_out': 0, 'activation': 'tanh', 'beta2': 6.804749546495195e-05, 'stddev_state': 0}\n"
     ]
    }
   ],
   "source": [
    "# hyperparameters\n",
    "cur_params = {}\n",
    "cur_params['activation']    = np.random.choice(['tanh', 'linear', 'softplus'])\n",
    "cur_params['beta1']         = 10**np.random.uniform(-6, 0)\n",
    "cur_params['beta2']         = 10**np.random.uniform(-6, 0)\n",
    "cur_params['stddev_state']  = 0\n",
    "cur_params['stddev_out']    = 0\n",
    "cur_params['monkey']        = np.random.choice(['D'])\n",
    "cur_params['num_neurons']   = np.random.randint(10, 100)\n",
    "\n",
    "# fixed parameters\n",
    "LEARNING_RATE = 0.0003\n",
    "NUM_ITERS = 5000\n",
    "LOAD_PREV = False\n",
    "PREV_PATH = None\n",
    "\n",
    "# current run and paths\n",
    "CUR_SIM = 1\n",
    "CUR_RUN = \"testA\"\n",
    "\n",
    "NPSAVE_PATH = '../saves/'+CUR_RUN+'/npsaves/'\n",
    "TFSAVE_PATH = '../saves/'+CUR_RUN+'/tfsaves/'\n",
    "MLSAVE_PATH = '../saves/'+CUR_RUN+'/mlsaves/'\n",
    "TB_PATH = '../saves/'+CUR_RUN+'/tb/'\n",
    "\n",
    "def make_dir(path):\n",
    "  \"\"\"like os.makedirs(path) but avoids race conditions\"\"\"\n",
    "  try:\n",
    "    os.makedirs(path)\n",
    "  except OSError:\n",
    "    if not os.path.isdir(path):\n",
    "      raise\n",
    "\n",
    "make_dir(NPSAVE_PATH)\n",
    "make_dir(TFSAVE_PATH)\n",
    "make_dir(MLSAVE_PATH)\n",
    "\n",
    "print 'Current Run: '+CUR_RUN\n",
    "\n",
    "\n",
    "# save params\n",
    "pickle.dump(cur_params, open(NPSAVE_PATH+str(CUR_SIM)+'params.pickle', 'wb'))\n",
    "\n",
    "print cur_params\n",
    "\n",
    "if LOAD_PREV:\n",
    "  load_model_path = '../saves/'+PREV_PATH+'/tfsaves/'+str(CUR_SIM)\n",
    "else:\n",
    "  load_model_path = None\n"
   ]
  },
  {
   "cell_type": "code",
   "execution_count": 330,
   "metadata": {
    "collapsed": true
   },
   "outputs": [],
   "source": [
    "CUR_SIM = CUR_SIM+1"
   ]
  },
  {
   "cell_type": "code",
   "execution_count": 441,
   "metadata": {
    "collapsed": false
   },
   "outputs": [
    {
     "name": "stdout",
     "output_type": "stream",
     "text": [
      "[u'x0:0', u'C:0', u'd:0', u'my_rnn/BasicRNNCell/Linear/Matrix:0', u'my_rnn/BasicRNNCell/Linear/Bias:0']\n",
      "  iter: 0000   Loss: 4.281813\n",
      "  iter: 0500   Loss: 0.150127\n",
      "  iter: 1000   Loss: 0.046851\n",
      "  Finished\n"
     ]
    }
   ],
   "source": [
    "Y_TF, X_TF,y_data,u_data = train_rnn(monkey=cur_params['monkey'],\n",
    "                                     beta1=0,\n",
    "                                     beta2=0,\n",
    "                                     stddev_state=0,\n",
    "                                     stddev_out=0.,\n",
    "                                     activation='tanh',\n",
    "                                     num_neurons=20,\n",
    "                                     learning_rate=0.003,\n",
    "                                     num_iters=1000,\n",
    "                                     save_model_path=TFSAVE_PATH+str(CUR_SIM),\n",
    "                                     tb_path=TB_PATH+str(CUR_SIM),\n",
    "                                     load_prev=False,\n",
    "                                     load_model_path='../saves/testA/tfsaves/1')\n"
   ]
  },
  {
   "cell_type": "code",
   "execution_count": 458,
   "metadata": {
    "collapsed": false
   },
   "outputs": [
    {
     "name": "stdout",
     "output_type": "stream",
     "text": [
      "  iter: 0000   Loss: 10.047109\n",
      "  iter: 0500   Loss: 0.385290\n",
      "  iter: 1000   Loss: 0.384580\n",
      "  Finished\n"
     ]
    }
   ],
   "source": [
    "Y_TF, X_TF = train_rnn(monkey=cur_params['monkey'],\n",
    "                                     beta1=0,\n",
    "                                     beta2=0,\n",
    "                                     stddev_state=0,\n",
    "                                     stddev_out=0.,\n",
    "                                     activation='softplus',\n",
    "                                     rnn_init='xavier',\n",
    "                                     num_neurons=20,\n",
    "                                     learning_rate=0.003,\n",
    "                                     num_iters=1000,\n",
    "                                     save_model_path=TFSAVE_PATH+str(CUR_SIM),\n",
    "                                     tb_path=TB_PATH+str(CUR_SIM),\n",
    "                                     load_prev=False,\n",
    "                                     load_model_path='../saves/testA/tfsaves/1')\n"
   ]
  },
  {
   "cell_type": "code",
   "execution_count": null,
   "metadata": {
    "collapsed": true
   },
   "outputs": [],
   "source": [
    "tf.random_normal_initializer()"
   ]
  },
  {
   "cell_type": "code",
   "execution_count": 421,
   "metadata": {
    "collapsed": false
   },
   "outputs": [
    {
     "data": {
      "text/plain": [
       "[40, 400, 400]"
      ]
     },
     "execution_count": 421,
     "metadata": {},
     "output_type": "execute_result"
    }
   ],
   "source": [
    "tf.variable_scope()."
   ]
  },
  {
   "cell_type": "code",
   "execution_count": null,
   "metadata": {
    "collapsed": true
   },
   "outputs": [],
   "source": [
    "tf.contrib.layers.xavier_initializer"
   ]
  },
  {
   "cell_type": "code",
   "execution_count": null,
   "metadata": {
    "collapsed": true
   },
   "outputs": [],
   "source": [
    "tf.constant_initializer()"
   ]
  },
  {
   "cell_type": "code",
   "execution_count": 362,
   "metadata": {
    "collapsed": false
   },
   "outputs": [
    {
     "data": {
      "text/plain": [
       "(100, 12, 5)"
      ]
     },
     "execution_count": 362,
     "metadata": {},
     "output_type": "execute_result"
    }
   ],
   "source": [
    "y_data.shape"
   ]
  },
  {
   "cell_type": "code",
   "execution_count": 361,
   "metadata": {
    "collapsed": false
   },
   "outputs": [],
   "source": [
    "y_data = np.zeros((np.max(sequence_length), 4*3, 5))"
   ]
  },
  {
   "cell_type": "code",
   "execution_count": 451,
   "metadata": {
    "collapsed": false
   },
   "outputs": [
    {
     "data": {
      "text/plain": [
       "[<matplotlib.lines.Line2D at 0x14eba8190>]"
      ]
     },
     "execution_count": 451,
     "metadata": {},
     "output_type": "execute_result"
    },
    {
     "data": {
      "image/png": "[encoded data removed]",
      "text/plain": [
       "<matplotlib.figure.Figure at 0x14eb9fd10>"
      ]
     },
     "metadata": {},
     "output_type": "display_data"
    }
   ],
   "source": [
    "plt.plot(Y_TF[:,1,5])\n",
    "plt.plot(y_data[:,1,5])"
   ]
  },
  {
   "cell_type": "code",
   "execution_count": 242,
   "metadata": {
    "collapsed": false
   },
   "outputs": [
    {
     "data": {
      "text/plain": [
       "{'activation': 'softplus',\n",
       " 'beta1': 3.979096573847291e-06,\n",
       " 'beta2': 0.006986615650824892,\n",
       " 'monkey': 'D',\n",
       " 'num_neurons': 38,\n",
       " 'stddev_out': 0.0,\n",
       " 'stddev_state': 0.0028959785153870607}"
      ]
     },
     "execution_count": 242,
     "metadata": {},
     "output_type": "execute_result"
    }
   ],
   "source": [
    "cur_params"
   ]
  },
  {
   "cell_type": "code",
   "execution_count": null,
   "metadata": {
    "collapsed": true
   },
   "outputs": [],
   "source": []
  },
  {
   "cell_type": "code",
   "execution_count": null,
   "metadata": {
    "collapsed": true
   },
   "outputs": [],
   "source": []
  }
 ],
 "metadata": {
  "kernelspec": {
   "display_name": "Python 2",
   "language": "python",
   "name": "python2"
  },
  "language_info": {
   "codemirror_mode": {
    "name": "ipython",
    "version": 2
   },
   "file_extension": ".py",
   "mimetype": "text/x-python",
   "name": "python",
   "nbconvert_exporter": "python",
   "pygments_lexer": "ipython2",
   "version": "2.7.12"
  }
 },
 "nbformat": 4,
 "nbformat_minor": 0
}
