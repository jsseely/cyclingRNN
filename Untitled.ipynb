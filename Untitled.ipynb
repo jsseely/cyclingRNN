{
 "cells": [
  {
   "cell_type": "code",
   "execution_count": 1,
   "metadata": {
    "collapsed": false
   },
   "outputs": [],
   "source": [
    "%reset -f\n",
    "%matplotlib inline\n",
    "%load_ext autoreload\n",
    "%autoreload 2"
   ]
  },
  {
   "cell_type": "code",
   "execution_count": 2,
   "metadata": {
    "collapsed": false
   },
   "outputs": [
    {
     "name": "stderr",
     "output_type": "stream",
     "text": [
      "/Users/jeff/anaconda/lib/python2.7/site-packages/sklearn/cross_validation.py:44: DeprecationWarning: This module was deprecated in version 0.18 in favor of the model_selection module into which all the refactored classes and functions are moved. Also note that the interface of the new CV iterators are different from that of this module. This module will be removed in 0.20.\n",
      "  \"This module will be removed in 0.20.\", DeprecationWarning)\n",
      "/Users/jeff/anaconda/lib/python2.7/site-packages/sklearn/grid_search.py:43: DeprecationWarning: This module was deprecated in version 0.18 in favor of the model_selection module into which all the refactored classes and functions are moved. This module will be removed in 0.20.\n",
      "  DeprecationWarning)\n"
     ]
    }
   ],
   "source": [
    "import numpy as np\n",
    "import scipy.io as sio\n",
    "import sklearn as sk\n",
    "from sklearn.grid_search import ParameterGrid\n",
    "from sklearn import decomposition\n",
    "import matplotlib as mpl\n",
    "import matplotlib.pyplot as plt\n",
    "import seaborn as sns\n",
    "import tensorflow as tf\n",
    "\n",
    "\n",
    "import pickle\n",
    "import os\n",
    "import pprint as pp\n",
    "\n",
    "from cycling_rnn import *"
   ]
  },
  {
   "cell_type": "code",
   "execution_count": 3,
   "metadata": {
    "collapsed": true
   },
   "outputs": [],
   "source": [
    "param_grid = {}\n",
    "\n",
    "param_grid['activation']    = np.random.choice(['tanh'], size=1)\n",
    "param_grid['beta1']         = 10**np.random.uniform(-7, -3, size=1)\n",
    "param_grid['beta2']         = 10**np.random.uniform(-5, -2, size=1)\n",
    "param_grid['stddev_state']  = 10**np.random.uniform(-5, -1, size=1)\n",
    "param_grid['stddev_out']    = 10**np.random.uniform(-4, 0, size=1)\n",
    "param_grid['monkey']        = np.random.choice(['D'], size=1)\n",
    "param_grid['num_neurons']   = np.array([100]).astype(int)\n",
    "\n",
    "# Split param_grid to search along hyperparameter axes only\n",
    "cur_params = ParameterGrid(param_grid)[0]\n",
    "#param_grid = parameter_grid_split(param_grid)\n",
    "\n",
    "# Fixed parameters\n",
    "LEARNING_RATE = 0.0003\n",
    "NUM_ITERS = 1000\n",
    "LOAD_PREV = False\n",
    "PREV_PATH = None\n",
    "LOCAL_MACHINE = True\n"
   ]
  },
  {
   "cell_type": "code",
   "execution_count": 4,
   "metadata": {
    "collapsed": true
   },
   "outputs": [],
   "source": [
    "CUR_RUN = 'test1'"
   ]
  },
  {
   "cell_type": "code",
   "execution_count": 5,
   "metadata": {
    "collapsed": true
   },
   "outputs": [],
   "source": [
    "if LOCAL_MACHINE:\n",
    "  PATH_PREFIX = '/Users/jeff/Documents/Python/_projects/cyclingRNN/'\n",
    "else:\n",
    "  PATH_PREFIX = '/vega/zmbbi/users/jss2219/cyclingRNN/'\n",
    "\n",
    "NPSAVE_PATH = PATH_PREFIX+'saves/'+CUR_RUN+'/npsaves/'\n",
    "TFSAVE_PATH = PATH_PREFIX+'saves/'+CUR_RUN+'/tfsaves/'\n",
    "MLSAVE_PATH = PATH_PREFIX+'saves/'+CUR_RUN+'/mlsaves/'\n",
    "TB_PATH = PATH_PREFIX+'saves/'+CUR_RUN+'/tb/'\n"
   ]
  },
  {
   "cell_type": "code",
   "execution_count": 6,
   "metadata": {
    "collapsed": false
   },
   "outputs": [
    {
     "name": "stdout",
     "output_type": "stream",
     "text": [
      "Current Run: test1\n"
     ]
    }
   ],
   "source": [
    "def make_dir(path):\n",
    "  \"\"\"\n",
    "    like os.makedirs(path) but avoids race conditions\n",
    "  \"\"\"\n",
    "  try:\n",
    "    os.makedirs(path)\n",
    "  except OSError:\n",
    "    if not os.path.isdir(path):\n",
    "      raise\n",
    "\n",
    "make_dir(NPSAVE_PATH)\n",
    "make_dir(TFSAVE_PATH)\n",
    "make_dir(MLSAVE_PATH)\n",
    "\n",
    "# save param-grid (split version)\n",
    "pickle.dump(param_grid, open(NPSAVE_PATH+'param_grid.pickle', 'wb'))\n",
    "\n",
    "print 'Current Run: '+CUR_RUN\n"
   ]
  },
  {
   "cell_type": "code",
   "execution_count": 7,
   "metadata": {
    "collapsed": true
   },
   "outputs": [],
   "source": [
    "i = 0"
   ]
  },
  {
   "cell_type": "code",
   "execution_count": 8,
   "metadata": {
    "collapsed": false
   },
   "outputs": [
    {
     "name": "stdout",
     "output_type": "stream",
     "text": [
      "{'monkey': 'D', 'num_neurons': 100, 'stddev_out': 0.012827070953973809, 'stddev_state': 0.076785911611621877, 'activation': 'tanh', 'beta2': 2.3161623981579985e-05, 'beta1': 8.1615822545847586e-06}\n",
      "  iter: 0000   Loss: 0.182824\n",
      "  iter: 0500   Loss: 0.021173\n",
      "  iter: 1000   Loss: 0.019697\n",
      "  Finished\n"
     ]
    }
   ],
   "source": [
    "print cur_params\n",
    "\n",
    "if LOAD_PREV:\n",
    "  load_model_path = PATH_PREFIX+'saves/'+PREV_PATH+'/tfsaves/'+str(i)\n",
    "else:\n",
    "  load_model_path = None\n",
    "\n",
    "Y_TF, X_TF = run_rnn(monkey=cur_params['monkey'],\n",
    "                     beta1=cur_params['beta1'],\n",
    "                     beta2=cur_params['beta2'],\n",
    "                     stddev_state=cur_params['stddev_state'],\n",
    "                     stddev_out=cur_params['stddev_out'],\n",
    "                     activation=cur_params['activation'],\n",
    "                     num_neurons=cur_params['num_neurons'],\n",
    "                     learning_rate=LEARNING_RATE,\n",
    "                     num_iters=NUM_ITERS,\n",
    "                     load_prev=LOAD_PREV,\n",
    "                     save_model_path=TFSAVE_PATH+str(i),\n",
    "                     load_model_path=load_model_path,\n",
    "                     tb_path=TB_PATH+str(i),\n",
    "                     local_machine=LOCAL_MACHINE)\n",
    "\n",
    "np.save(NPSAVE_PATH+str(i)+'y', Y_TF)\n",
    "np.save(NPSAVE_PATH+str(i)+'x', X_TF)\n",
    "sio.savemat(MLSAVE_PATH+str(i)+'.mat', mdict={'X': X_TF, 'Y': Y_TF, 'params': cur_params})\n",
    "\n"
   ]
  },
  {
   "cell_type": "code",
   "execution_count": 9,
   "metadata": {
    "collapsed": true
   },
   "outputs": [],
   "source": [
    "# load rnn"
   ]
  },
  {
   "cell_type": "code",
   "execution_count": 10,
   "metadata": {
    "collapsed": true
   },
   "outputs": [],
   "source": [
    "RUN = './saves/test1/'\n",
    "param_grid = pickle.load(open(RUN+'npsaves/param_grid.pickle', 'rb'))"
   ]
  },
  {
   "cell_type": "code",
   "execution_count": 11,
   "metadata": {
    "collapsed": false
   },
   "outputs": [
    {
     "name": "stdout",
     "output_type": "stream",
     "text": [
      "{'activation': 'tanh',\n",
      " 'beta1': 8.1615822545847586e-06,\n",
      " 'beta2': 2.3161623981579985e-05,\n",
      " 'monkey': 'D',\n",
      " 'num_neurons': 100,\n",
      " 'stddev_out': 0.012827070953973809,\n",
      " 'stddev_state': 0.076785911611621877}\n"
     ]
    }
   ],
   "source": [
    "sim = 0\n",
    "cur_params = ParameterGrid(param_grid)[sim]\n",
    "pp.pprint(cur_params)"
   ]
  },
  {
   "cell_type": "code",
   "execution_count": 12,
   "metadata": {
    "collapsed": true
   },
   "outputs": [],
   "source": [
    "# List directory\n",
    "# Number of sims in RUN\n",
    "total_sims = len(os.listdir(RUN+'tb'))\n",
    "\n",
    "# load x and y data\n",
    "x = np.load(RUN+'npsaves/'+str(sim)+'x.npy')\n",
    "y = np.load(RUN+'npsaves/'+str(sim)+'y.npy')\n",
    "#os.listdir(RUN+'npsaves')\n",
    "\n",
    "cur_params = ParameterGrid(param_grid)[sim]"
   ]
  },
  {
   "cell_type": "code",
   "execution_count": 13,
   "metadata": {
    "collapsed": true
   },
   "outputs": [],
   "source": [
    "if cur_params['monkey']=='D':\n",
    "    data = sio.loadmat('/Users/jeff/Documents/Python/_projects/cyclingRNN/drakeFeb_processed.mat')\n",
    "else:\n",
    "    data = sio.loadmat('/Users/jeff/Documents/Python/_projects/cyclingRNN/cousFeb_processed.mat')\n",
    "    \n",
    "emg = data['EMG']\n",
    "m1 = data['M1']\n",
    "\n",
    "x = x[:emg.shape[0], :emg.shape[1], :]\n",
    "y = y[:emg.shape[0], :emg.shape[1], :]"
   ]
  },
  {
   "cell_type": "markdown",
   "metadata": {},
   "source": [
    "### load tf model"
   ]
  },
  {
   "cell_type": "code",
   "execution_count": 14,
   "metadata": {
    "collapsed": true
   },
   "outputs": [],
   "source": [
    "TF_PATH = RUN+'tfsaves/'+str(sim)\n",
    "tf.reset_default_graph()\n",
    "with tf.Session() as sess:\n",
    "    new_saver = tf.train.import_meta_graph(TF_PATH+'.meta')\n",
    "    new_saver.restore(sess, TF_PATH)\n",
    "    Mat = sess.run([v for v in tf.all_variables() if v.name == 'RNN/BasicRNNCellNoise/Linear/Matrix:0'][0].assign(np.ones((102,100))))\n",
    "    A = Mat[2:]\n",
    "    B = Mat[:2]"
   ]
  },
  {
   "cell_type": "code",
   "execution_count": 15,
   "metadata": {
    "collapsed": false
   },
   "outputs": [
    {
     "ename": "NameError",
     "evalue": "name 'y_data' is not defined",
     "output_type": "error",
     "traceback": [
      "\u001b[0;31m---------------------------------------------------------------------------\u001b[0m",
      "\u001b[0;31mNameError\u001b[0m                                 Traceback (most recent call last)",
      "\u001b[0;32m<ipython-input-15-aaeaecac0a2a>\u001b[0m in \u001b[0;36m<module>\u001b[0;34m()\u001b[0m\n\u001b[1;32m      3\u001b[0m   \u001b[0mnew_saver\u001b[0m\u001b[0;34m.\u001b[0m\u001b[0mrestore\u001b[0m\u001b[0;34m(\u001b[0m\u001b[0msess\u001b[0m\u001b[0;34m,\u001b[0m \u001b[0mTF_PATH\u001b[0m\u001b[0;34m)\u001b[0m\u001b[0;34m\u001b[0m\u001b[0m\n\u001b[1;32m      4\u001b[0m \u001b[0;34m\u001b[0m\u001b[0m\n\u001b[0;32m----> 5\u001b[0;31m   feed_dict = {Y: y_data + np.random.randn(*y_data.shape)*y_data.var()*stddev_out,\n\u001b[0m\u001b[1;32m      6\u001b[0m              \u001b[0mU\u001b[0m\u001b[0;34m:\u001b[0m \u001b[0mu_data\u001b[0m\u001b[0;34m,\u001b[0m\u001b[0;34m\u001b[0m\u001b[0m\n\u001b[1;32m      7\u001b[0m              noise_state: stddev_state}\n",
      "\u001b[0;31mNameError\u001b[0m: name 'y_data' is not defined"
     ]
    }
   ],
   "source": [
    "with tf.Session() as sess:\n",
    "  new_saver = tf.train.import_meta_graph(TF_PATH+'.meta')\n",
    "  new_saver.restore(sess, TF_PATH)\n",
    "  \n",
    "  feed_dict = {Y: y_data + np.random.randn(*y_data.shape)*y_data.var()*stddev_out,\n",
    "             U: u_data,\n",
    "             noise_state: stddev_state}"
   ]
  },
  {
   "cell_type": "code",
   "execution_count": 18,
   "metadata": {
    "collapsed": false
   },
   "outputs": [
    {
     "data": {
      "text/plain": [
       "(80, 4, 36)"
      ]
     },
     "execution_count": 18,
     "metadata": {},
     "output_type": "execute_result"
    }
   ],
   "source": [
    "y.shape"
   ]
  },
  {
   "cell_type": "code",
   "execution_count": null,
   "metadata": {
    "collapsed": true
   },
   "outputs": [],
   "source": []
  },
  {
   "cell_type": "code",
   "execution_count": null,
   "metadata": {
    "collapsed": true
   },
   "outputs": [],
   "source": []
  },
  {
   "cell_type": "code",
   "execution_count": null,
   "metadata": {
    "collapsed": true
   },
   "outputs": [],
   "source": []
  },
  {
   "cell_type": "code",
   "execution_count": 33,
   "metadata": {
    "collapsed": false
   },
   "outputs": [
    {
     "data": {
      "text/plain": [
       "u'RNN/BasicRNNCellNoise/Linear/Matrix:0'"
      ]
     },
     "execution_count": 33,
     "metadata": {},
     "output_type": "execute_result"
    }
   ],
   "source": [
    "blah.name"
   ]
  },
  {
   "cell_type": "code",
   "execution_count": 34,
   "metadata": {
    "collapsed": false,
    "scrolled": true
   },
   "outputs": [
    {
     "data": {
      "text/plain": [
       "[u'x0:0',\n",
       " u'C:0',\n",
       " u'd:0',\n",
       " u'RNN/BasicRNNCellNoise/Linear/Matrix:0',\n",
       " u'RNN/BasicRNNCellNoise/Linear/Bias:0',\n",
       " u'beta1_power:0',\n",
       " u'beta2_power:0',\n",
       " u'x0/Adam:0',\n",
       " u'x0/Adam_1:0',\n",
       " u'C/Adam:0',\n",
       " u'C/Adam_1:0',\n",
       " u'd/Adam:0',\n",
       " u'd/Adam_1:0',\n",
       " u'RNN/BasicRNNCellNoise/Linear/Matrix/Adam:0',\n",
       " u'RNN/BasicRNNCellNoise/Linear/Matrix/Adam_1:0',\n",
       " u'RNN/BasicRNNCellNoise/Linear/Bias/Adam:0',\n",
       " u'RNN/BasicRNNCellNoise/Linear/Bias/Adam_1:0']"
      ]
     },
     "execution_count": 34,
     "metadata": {},
     "output_type": "execute_result"
    }
   ],
   "source": [
    "[v.name for v in tf.all_variables()]"
   ]
  },
  {
   "cell_type": "code",
   "execution_count": 21,
   "metadata": {
    "collapsed": true
   },
   "outputs": [],
   "source": [
    "blah = [v for v in tf.all_variables() if v.name == 'RNN/BasicRNNCellNoise/Linear/Matrix:0']"
   ]
  },
  {
   "cell_type": "code",
   "execution_count": 23,
   "metadata": {
    "collapsed": false
   },
   "outputs": [
    {
     "data": {
      "text/plain": [
       "<tensorflow.python.ops.variables.Variable at 0x11811ca10>"
      ]
     },
     "execution_count": 23,
     "metadata": {},
     "output_type": "execute_result"
    }
   ],
   "source": []
  },
  {
   "cell_type": "code",
   "execution_count": 21,
   "metadata": {
    "collapsed": false
   },
   "outputs": [],
   "source": [
    "blah = [v for v in tf.all_variables() if v.name == 'RNN/BasicRNNCellNoise/Linear/Matrix:0'][0].assign_add(np.random.randn(102,100))"
   ]
  },
  {
   "cell_type": "code",
   "execution_count": 22,
   "metadata": {
    "collapsed": false
   },
   "outputs": [
    {
     "data": {
      "text/plain": [
       "<tf.Tensor 'AssignAdd_2:0' shape=(102, 100) dtype=float32_ref>"
      ]
     },
     "execution_count": 22,
     "metadata": {},
     "output_type": "execute_result"
    }
   ],
   "source": [
    "blah"
   ]
  },
  {
   "cell_type": "code",
   "execution_count": 23,
   "metadata": {
    "collapsed": false
   },
   "outputs": [
    {
     "data": {
      "text/plain": [
       "<tensorflow.python.ops.variables.Variable at 0x118b00a10>"
      ]
     },
     "execution_count": 23,
     "metadata": {},
     "output_type": "execute_result"
    }
   ],
   "source": [
    "[v for v in tf.all_variables() if v.name == 'RNN/BasicRNNCellNoise/Linear/Matrix:0'][0]"
   ]
  },
  {
   "cell_type": "code",
   "execution_count": null,
   "metadata": {
    "collapsed": true
   },
   "outputs": [],
   "source": [
    "with tf.Session() as sess:\n",
    "  new_saver = tf.train.import_meta_graph(TF_PATH+'.meta')\n",
    "  new_saver.restore(sess, TF_PATH)\n",
    "  \n",
    "  feed_dict = {Y:}"
   ]
  }
 ],
 "metadata": {
  "kernelspec": {
   "display_name": "Python 2",
   "language": "python",
   "name": "python2"
  },
  "language_info": {
   "codemirror_mode": {
    "name": "ipython",
    "version": 2
   },
   "file_extension": ".py",
   "mimetype": "text/x-python",
   "name": "python",
   "nbconvert_exporter": "python",
   "pygments_lexer": "ipython2",
   "version": "2.7.12"
  }
 },
 "nbformat": 4,
 "nbformat_minor": 0
}
