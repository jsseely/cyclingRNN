{
 "cells": [
  {
   "cell_type": "markdown",
   "metadata": {},
   "source": [
    "# Notebook for Testing code\n"
   ]
  },
  {
   "cell_type": "code",
   "execution_count": 1,
   "metadata": {
    "collapsed": false
   },
   "outputs": [],
   "source": [
    "%reset -f\n",
    "%matplotlib inline\n",
    "%load_ext autoreload\n",
    "%autoreload"
   ]
  },
  {
   "cell_type": "code",
   "execution_count": 2,
   "metadata": {
    "collapsed": false,
    "scrolled": true
   },
   "outputs": [
    {
     "name": "stderr",
     "output_type": "stream",
     "text": [
      "/Users/jeff/anaconda/lib/python2.7/site-packages/sklearn/cross_validation.py:44: DeprecationWarning: This module was deprecated in version 0.18 in favor of the model_selection module into which all the refactored classes and functions are moved. Also note that the interface of the new CV iterators are different from that of this module. This module will be removed in 0.20.\n",
      "  \"This module will be removed in 0.20.\", DeprecationWarning)\n",
      "/Users/jeff/anaconda/lib/python2.7/site-packages/sklearn/grid_search.py:43: DeprecationWarning: This module was deprecated in version 0.18 in favor of the model_selection module into which all the refactored classes and functions are moved. This module will be removed in 0.20.\n",
      "  DeprecationWarning)\n"
     ]
    }
   ],
   "source": [
    "import numpy as np\n",
    "import scipy.io as sio\n",
    "import sklearn as sk\n",
    "from sklearn.grid_search import ParameterGrid\n",
    "from sklearn import decomposition\n",
    "import matplotlib as mpl\n",
    "import matplotlib.pyplot as plt\n",
    "import seaborn as sns\n",
    "import tensorflow as tf\n",
    "import pandas as pd\n",
    "import datetime\n",
    "import pickle\n",
    "import os\n",
    "import pprint\n",
    "import numpy.polynomial.polynomial as P\n",
    "from mpl_toolkits.mplot3d import Axes3D\n",
    "from cycling_rnn import *"
   ]
  },
  {
   "cell_type": "markdown",
   "metadata": {
    "collapsed": true
   },
   "source": [
    "## Plot settings"
   ]
  },
  {
   "cell_type": "code",
   "execution_count": 97,
   "metadata": {
    "collapsed": false
   },
   "outputs": [],
   "source": [
    "#cmap = sns.color_palette('RdBu',5)[:2] + sns.color_palette('RdBu',5)[-2:]\n",
    "#sns.set_palette(cmap)\n",
    "sns.set_context('paper', font_scale=1.5)"
   ]
  },
  {
   "cell_type": "markdown",
   "metadata": {},
   "source": [
    "## Load stuff"
   ]
  },
  {
   "cell_type": "code",
   "execution_count": null,
   "metadata": {
    "collapsed": false
   },
   "outputs": [],
   "source": [
    "RUN = './saves/8-27c/'\n",
    "param_grid = pickle.load(open(RUN+'npsaves/param_grid.pickle', 'rb'))\n",
    "\n",
    "sim = 0\n",
    "cur_params = ParameterGrid(param_grid)[sim]\n",
    "pprint.pprint(cur_params)\n",
    "\n",
    "# List directory\n",
    "# Number of sims in RUN\n",
    "total_sims = len(os.listdir(RUN+'tb'))\n",
    "\n",
    "# load x and y data\n",
    "x = np.load(RUN+'npsaves/'+str(sim)+'x.npy')\n",
    "y = np.load(RUN+'npsaves/'+str(sim)+'y.npy')\n",
    "#os.listdir(RUN+'npsaves')\n",
    "\n",
    "cur_params = ParameterGrid(param_grid)[sim]"
   ]
  },
  {
   "cell_type": "code",
   "execution_count": null,
   "metadata": {
    "collapsed": false
   },
   "outputs": [],
   "source": [
    "if cur_params['monkey']=='D':\n",
    "    data = sio.loadmat('/Users/jeff/Documents/Python/_projects/cyclingRNN/drakeFeb_processed.mat')\n",
    "else:\n",
    "    data = sio.loadmat('/Users/jeff/Documents/Python/_projects/cyclingRNN/cousFeb_processed.mat')\n",
    "    \n",
    "emg = data['EMG']\n",
    "m1 = data['M1']\n",
    "\n",
    "x = x[:emg.shape[0], :emg.shape[1], :]\n",
    "y = y[:emg.shape[0], :emg.shape[1], :]"
   ]
  },
  {
   "cell_type": "markdown",
   "metadata": {},
   "source": [
    "## Do stuff"
   ]
  },
  {
   "cell_type": "markdown",
   "metadata": {},
   "source": [
    "### curvature: method 1"
   ]
  },
  {
   "cell_type": "code",
   "execution_count": null,
   "metadata": {
    "collapsed": true
   },
   "outputs": [],
   "source": [
    "### method 1 of getting curvature (naive)"
   ]
  },
  {
   "cell_type": "code",
   "execution_count": null,
   "metadata": {
    "collapsed": true
   },
   "outputs": [],
   "source": [
    "## curvature...\n",
    "n = 2\n",
    "A = np.random.randn((n))\n",
    "B = np.random.randn((n))\n",
    "C = np.random.randn((n))"
   ]
  },
  {
   "cell_type": "code",
   "execution_count": null,
   "metadata": {
    "collapsed": true
   },
   "outputs": [],
   "source": [
    "def cross_id1(a,b,c):\n",
    "    return np.dot(a,c)*b - np.dot(a,b)*c\n",
    "\n",
    "def cross_id2(a,b):\n",
    "    return np.sqrt(np.linalg.norm(a)**2*np.linalg.norm(b)**2 - np.dot(a,b)**2)"
   ]
  },
  {
   "cell_type": "code",
   "execution_count": null,
   "metadata": {
    "collapsed": true
   },
   "outputs": [],
   "source": [
    "a = A-C\n",
    "b = B-C"
   ]
  },
  {
   "cell_type": "code",
   "execution_count": null,
   "metadata": {
    "collapsed": true
   },
   "outputs": [],
   "source": [
    "r = np.linalg.norm(a)*np.linalg.norm(b)*np.linalg.norm(a-b)/(2*cross_id2(a,b))\n",
    "p = cross_id1(np.linalg.norm(a)**2*b - np.linalg.norm(b)**2*a, a, b)/(2*cross_id2(a,b)**2) + C"
   ]
  },
  {
   "cell_type": "code",
   "execution_count": null,
   "metadata": {
    "collapsed": false
   },
   "outputs": [],
   "source": [
    "plt.figure()\n",
    "ax = plt.gca()\n",
    "circle1 = plt.Circle((p[0], p[1]), r, alpha=0.2)\n",
    "ax.add_artist(circle1)\n",
    "\n",
    "\n",
    "plt.plot(A[0],A[1],'ko')\n",
    "plt.plot(B[0],B[1],'ko')\n",
    "plt.plot(C[0],C[1],'ko')\n",
    "plt.plot(p[0],p[1],'wo')\n",
    "\n",
    "plt.axis('square')\n",
    "plt.xlim([-3, 3])\n",
    "plt.ylim([-3, 3])\n",
    "\n",
    "plt.show()\n",
    "print r"
   ]
  },
  {
   "cell_type": "markdown",
   "metadata": {},
   "source": [
    "### curvature: method 2"
   ]
  },
  {
   "cell_type": "code",
   "execution_count": 4,
   "metadata": {
    "collapsed": true
   },
   "outputs": [],
   "source": [
    "### method 2 of getting curvature (better)"
   ]
  },
  {
   "cell_type": "code",
   "execution_count": 9,
   "metadata": {
    "collapsed": true
   },
   "outputs": [],
   "source": [
    "def rand_signal(time_, cycle_, components_):\n",
    "    \"\"\" \n",
    "    Create a size (T,) signal with lognormal distribution of component frequencies.\n",
    "    \"\"\"\n",
    "    freq = 2*np.pi/cycle_*np.random.lognormal(mean=0, size=components_)\n",
    "    phi = np.random.rand(components_)*cycle_\n",
    "    z = np.sin(np.outer(time_, freq) + phi)\n",
    "    z = z.sum(axis=1) # add up the sinusoids \n",
    "    z = (z - z.min()) / (z.max() - z.min()) # normalize\n",
    "    z = 2*z - 1 # set range to [-1,1]\n",
    "    return z"
   ]
  },
  {
   "cell_type": "code",
   "execution_count": 87,
   "metadata": {
    "collapsed": false
   },
   "outputs": [
    {
     "data": {
      "image/png": "[encoded data removed]",
      "text/plain": [
       "<matplotlib.figure.Figure at 0x119a17c90>"
      ]
     },
     "metadata": {},
     "output_type": "display_data"
    }
   ],
   "source": [
    "n = 2\n",
    "t = 100\n",
    "time = np.linspace(0., .5, t)\n",
    "\n",
    "tmid = time[t/2]\n",
    "\n",
    "points = np.zeros((t, n))\n",
    "points_true = np.zeros((t, n))\n",
    "for nn in range(n):\n",
    "    points_true[:, nn] = (3-nn*2)*rand_signal(time, 1, 10)\n",
    "points = points_true + 0.15*np.random.randn(t, n)\n",
    "\n",
    "fig = plt.figure(figsize=(15,5))\n",
    "if n>2:\n",
    "    ax = fig.gca(projection='3d')\n",
    "    plt.plot(points[:,0] ,points[:,1], points[:,2], 'o', linewidth=0.5, alpha=0.8)\n",
    "    plt.plot(points_true[:,0] ,points_true[:,1], points_true[:,2], '-', linewidth=1.5, alpha=0.8)\n",
    "else:\n",
    "    plt.plot(points[:,0] ,points[:,1], 'o', linewidth=0.5, alpha=0.8)\n",
    "    plt.plot(points_true[:,0] ,points_true[:,1], '-', linewidth=1, alpha=0.8)\n",
    "plt.axis('equal')\n",
    "plt.show()"
   ]
  },
  {
   "cell_type": "code",
   "execution_count": 98,
   "metadata": {
    "collapsed": false
   },
   "outputs": [
    {
     "data": {
      "image/png": "[encoded data removed]",
      "text/plain": [
       "<matplotlib.figure.Figure at 0x11aa178d0>"
      ]
     },
     "metadata": {},
     "output_type": "display_data"
    }
   ],
   "source": [
    "tref = 58\n",
    "\n",
    "total_points = 30\n",
    "deg = 4\n",
    "k, e = get_generalized_curvature(points, total_points, deg)\n",
    "\n",
    "total_curvatures = np.min((points.shape[1]-1, deg-1)) # have many curvatures to calculate\n",
    "\n",
    "half = np.floor(total_points/2).astype(int)\n",
    "\n",
    "times = np.arange(tref-half, tref+half+1)\n",
    "times_local = times - tref # will always be -half:half\n",
    "tmid = times_local[half] # tmid = 0\n",
    "p = P.polyfit(times_local, points[times], deg)\n",
    "pt = P.polyval(tmid, p)\n",
    "\n",
    "times_plot = np.linspace(times_local[0], times_local[-1], 10*total_points)\n",
    "p_plot = P.polyval(times_plot, p)\n",
    "\n",
    "plt.figure(figsize=(15,5))\n",
    "ax = plt.gca()\n",
    "\n",
    "circle1 = plt.Circle(pt+1/k[tref,0]*e[tref][:,1], 1/k[tref,0], alpha=0.2)\n",
    "ax.add_artist(circle1)\n",
    "\n",
    "plt.plot(points[:,0], points[:,1],  'o', linewidth=1, alpha=0.8)\n",
    "plt.plot(points_true[:,0], points_true[:,1],  '-', linewidth=1, alpha=0.8)\n",
    "plt.plot(p_plot.T[:,0], p_plot.T[:,1], linewidth=3)\n",
    "\n",
    "ax.arrow(pt[0], pt[1], 0.5*e[tref][0,0], 0.5*e[tref][1,0], head_width=0.05, head_length=0.1, fc='k', ec='k')\n",
    "ax.arrow(pt[0], pt[1], 0.5*e[tref][0,1], 0.5*e[tref][1,1], head_width=0.05, head_length=0.1, fc='k', ec='k')\n",
    "\n",
    "plt.axis('equal')\n",
    "#plt.xlim([-2, 2])\n",
    "#plt.ylim([-2, 2])\n",
    "\n",
    "plt.show()\n",
    "\n"
   ]
  },
  {
   "cell_type": "code",
   "execution_count": null,
   "metadata": {
    "collapsed": true
   },
   "outputs": [],
   "source": [
    "plt.xkcd"
   ]
  },
  {
   "cell_type": "code",
   "execution_count": null,
   "metadata": {
    "collapsed": false,
    "scrolled": true
   },
   "outputs": [],
   "source": [
    "plt.plot(k)\n",
    "plt.show()"
   ]
  },
  {
   "cell_type": "code",
   "execution_count": null,
   "metadata": {
    "collapsed": false
   },
   "outputs": [],
   "source": [
    "p = P.polyfit(time, points, 4)\n",
    "pp = [] # derivatives\n",
    "pt = [] # evaluated at time tmid\n",
    "for deriv in range(4):\n",
    "    pp.append(P.polyder(p, deriv))\n",
    "    pt.append(P.polyval(tmid, pp[-1]))"
   ]
  },
  {
   "cell_type": "code",
   "execution_count": null,
   "metadata": {
    "collapsed": true
   },
   "outputs": [],
   "source": [
    "p_plot = P.polyval(np.linspace(0, 0.5, 10*5), p)"
   ]
  },
  {
   "cell_type": "code",
   "execution_count": null,
   "metadata": {
    "collapsed": false
   },
   "outputs": [],
   "source": [
    "## Other method for calculating k\n",
    "k = np.dot(pt[1], pt[1])*np.dot(pt[2], pt[2]) - np.dot(pt[1], pt[2])**2\n",
    "k = k/np.dot(pt[1], pt[1])**3\n",
    "k = np.sqrt(k)"
   ]
  },
  {
   "cell_type": "code",
   "execution_count": null,
   "metadata": {
    "collapsed": true
   },
   "outputs": [],
   "source": [
    "e1 = pt[1]/np.linalg.norm(pt[1])\n",
    "e2_ = pt[2] - np.dot(pt[2], e1)*e1\n",
    "e2 = e2_/np.linalg.norm(e2_)"
   ]
  },
  {
   "cell_type": "code",
   "execution_count": null,
   "metadata": {
    "collapsed": true
   },
   "outputs": [],
   "source": [
    "e1d = pt[2]/np.linalg.norm(pt[1])\n",
    "kk = np.dot(e1d, e2)/np.linalg.norm(pt[1])"
   ]
  },
  {
   "cell_type": "code",
   "execution_count": null,
   "metadata": {
    "collapsed": true
   },
   "outputs": [],
   "source": []
  },
  {
   "cell_type": "code",
   "execution_count": null,
   "metadata": {
    "collapsed": true
   },
   "outputs": [],
   "source": []
  },
  {
   "cell_type": "markdown",
   "metadata": {},
   "source": [
    "### curvature on data / rnn"
   ]
  },
  {
   "cell_type": "code",
   "execution_count": null,
   "metadata": {
    "collapsed": false
   },
   "outputs": [],
   "source": [
    "tref = 100\n",
    "\n",
    "total_points = 11\n",
    "deg = 5\n",
    "\n",
    "k_m1 = []\n",
    "e_m1 = []\n",
    "\n",
    "k_emg = []\n",
    "e_emg = []\n",
    "\n",
    "k_rnn = []\n",
    "e_rnn = []\n",
    "\n",
    "for c in range(4):\n",
    "    k, e = get_generalized_curvature(m1[:,c,:], total_points, deg)\n",
    "    k_m1.append(k)\n",
    "    e_m1.append(e)\n",
    "    \n",
    "    k, e = get_generalized_curvature(emg[:,c,:], total_points, deg)\n",
    "    k_emg.append(k)\n",
    "    e_emg.append(e)\n",
    "\n",
    "    k, e = get_generalized_curvature(x[:,c,:], total_points, deg)\n",
    "    k_rnn.append(k)\n",
    "    e_rnn.append(e)\n",
    "\n",
    "    "
   ]
  },
  {
   "cell_type": "code",
   "execution_count": null,
   "metadata": {
    "collapsed": false
   },
   "outputs": [],
   "source": [
    "with sns.color_palette('Set1', 4):\n",
    "    plt.figure()\n",
    "    plt.plot(k_m1[3][:,:4],'-')\n",
    "    plt.plot(k_emg[3][:,:4],'--')\n",
    "    #plt.plot(k_rnn[0][:,:2],'-.')"
   ]
  },
  {
   "cell_type": "code",
   "execution_count": null,
   "metadata": {
    "collapsed": true
   },
   "outputs": [],
   "source": []
  },
  {
   "cell_type": "code",
   "execution_count": null,
   "metadata": {
    "collapsed": true
   },
   "outputs": [],
   "source": []
  },
  {
   "cell_type": "code",
   "execution_count": null,
   "metadata": {
    "collapsed": true
   },
   "outputs": [],
   "source": []
  },
  {
   "cell_type": "code",
   "execution_count": null,
   "metadata": {
    "collapsed": true
   },
   "outputs": [],
   "source": []
  },
  {
   "cell_type": "code",
   "execution_count": null,
   "metadata": {
    "collapsed": true
   },
   "outputs": [],
   "source": []
  },
  {
   "cell_type": "code",
   "execution_count": null,
   "metadata": {
    "collapsed": true
   },
   "outputs": [],
   "source": []
  },
  {
   "cell_type": "code",
   "execution_count": null,
   "metadata": {
    "collapsed": true
   },
   "outputs": [],
   "source": []
  },
  {
   "cell_type": "code",
   "execution_count": null,
   "metadata": {
    "collapsed": true
   },
   "outputs": [],
   "source": []
  },
  {
   "cell_type": "code",
   "execution_count": null,
   "metadata": {
    "collapsed": true
   },
   "outputs": [],
   "source": []
  },
  {
   "cell_type": "code",
   "execution_count": null,
   "metadata": {
    "collapsed": true
   },
   "outputs": [],
   "source": []
  },
  {
   "cell_type": "code",
   "execution_count": null,
   "metadata": {
    "collapsed": true
   },
   "outputs": [],
   "source": []
  },
  {
   "cell_type": "code",
   "execution_count": null,
   "metadata": {
    "collapsed": true
   },
   "outputs": [],
   "source": []
  },
  {
   "cell_type": "code",
   "execution_count": null,
   "metadata": {
    "collapsed": true
   },
   "outputs": [],
   "source": []
  },
  {
   "cell_type": "code",
   "execution_count": null,
   "metadata": {
    "collapsed": true
   },
   "outputs": [],
   "source": []
  },
  {
   "cell_type": "code",
   "execution_count": null,
   "metadata": {
    "collapsed": true
   },
   "outputs": [],
   "source": []
  },
  {
   "cell_type": "code",
   "execution_count": null,
   "metadata": {
    "collapsed": true
   },
   "outputs": [],
   "source": []
  }
 ],
 "metadata": {
  "kernelspec": {
   "display_name": "Python 2",
   "language": "python",
   "name": "python2"
  },
  "language_info": {
   "codemirror_mode": {
    "name": "ipython",
    "version": 2
   },
   "file_extension": ".py",
   "mimetype": "text/x-python",
   "name": "python",
   "nbconvert_exporter": "python",
   "pygments_lexer": "ipython2",
   "version": "2.7.12"
  }
 },
 "nbformat": 4,
 "nbformat_minor": 0
}
