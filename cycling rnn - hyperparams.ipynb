{
 "cells": [
  {
   "cell_type": "code",
   "execution_count": 1,
   "metadata": {
    "collapsed": false
   },
   "outputs": [],
   "source": [
    "%reset -f\n",
    "%matplotlib inline"
   ]
  },
  {
   "cell_type": "code",
   "execution_count": 2,
   "metadata": {
    "collapsed": true
   },
   "outputs": [],
   "source": [
    "import numpy as np\n",
    "import scipy.io as sio\n",
    "import sklearn as sk\n",
    "from sklearn import decomposition\n",
    "\n",
    "import matplotlib as mpl\n",
    "import matplotlib.pyplot as plt\n",
    "import seaborn as sns\n",
    "import tensorflow as tf\n",
    "import pandas as pd\n",
    "\n",
    "import datetime\n",
    "\n",
    "from scipy.io import savemat"
   ]
  },
  {
   "cell_type": "code",
   "execution_count": 3,
   "metadata": {
    "collapsed": false
   },
   "outputs": [],
   "source": [
    "cmap = sns.color_palette('RdBu',5)[:2] + sns.color_palette('RdBu',5)[-2:]\n",
    "sns.set_palette(cmap)"
   ]
  },
  {
   "cell_type": "code",
   "execution_count": 4,
   "metadata": {
    "collapsed": true
   },
   "outputs": [],
   "source": [
    "def make_pairgrid(d):\n",
    "    ''' in: (d1,d2,d3,d4) '''\n",
    "    df = pd.DataFrame(np.concatenate(d))\n",
    "    cond_labels = d[0].shape[0]*['fw1'] + d[1].shape[0]*['fw2'] + d[2].shape[0]*['bw1'] + d[3].shape[0]*['bw2']\n",
    "    df['condition'] = cond_labels\n",
    "    g = sns.PairGrid(df, hue='condition', diag_sharey=True)\n",
    "    g.map_diag(plt.hist)\n",
    "    g.map_offdiag(plt.plot)\n",
    "    dmax = np.max(np.concatenate(d))\n",
    "    g.add_legend()"
   ]
  },
  {
   "cell_type": "code",
   "execution_count": 5,
   "metadata": {
    "collapsed": true
   },
   "outputs": [],
   "source": [
    "monkey='D'"
   ]
  },
  {
   "cell_type": "code",
   "execution_count": 6,
   "metadata": {
    "collapsed": false
   },
   "outputs": [],
   "source": [
    "if monkey=='D':\n",
    "    data = sio.loadmat('/Users/jeff/Documents/Python/_projects/cyclingRNN/drakeFeb.mat')\n",
    "else:\n",
    "    data = sio.loadmat('/Users/jeff/Documents/Python/_projects/cyclingRNN/cousFeb.mat')"
   ]
  },
  {
   "cell_type": "code",
   "execution_count": 7,
   "metadata": {
    "collapsed": false
   },
   "outputs": [],
   "source": [
    "m1 = data['D'][0,0]['M1']\n",
    "emg = data['D'][0,0]['EMG']\n",
    "\n",
    "m1 = np.reshape(m1, m1.shape[:2]+(4,)) # order = 'C' or 'F'\n",
    "emg = np.reshape(emg, emg.shape[:2]+(4,)) # order = 'C' or 'F'\n",
    "\n",
    "m1 = np.transpose(m1, [1,2,0])\n",
    "emg = np.transpose(emg, [1,2,0])\n",
    "# Preprocess data\n",
    "# Normalize EMG\n",
    "max_ = np.max(emg, axis=(0,1))\n",
    "min_ = np.min(emg, axis=(0,1))\n",
    "emg_ = (emg - min_)/(max_ - min_)\n",
    "\n",
    "# Normalize M1\n",
    "max_ = np.max(m1, axis=(0,1))\n",
    "min_ = np.min(m1, axis=(0,1))\n",
    "m1_ = m1/(max_ - min_ + 5)\n",
    "\n",
    "# Select times + downsample \n",
    "times = np.arange(2000,4000, 25)\n",
    "m1_ = m1[times]\n",
    "emg_ = emg_[times]"
   ]
  },
  {
   "cell_type": "code",
   "execution_count": 8,
   "metadata": {
    "collapsed": true
   },
   "outputs": [],
   "source": [
    "from cycling_rnn import run_rnn"
   ]
  },
  {
   "cell_type": "markdown",
   "metadata": {},
   "source": [
    "### TF stuff"
   ]
  },
  {
   "cell_type": "code",
   "execution_count": null,
   "metadata": {
    "collapsed": false
   },
   "outputs": [],
   "source": [
    "monkey='D'\n",
    "beta1 = np.logspace(-3,0,7)\n",
    "beta2 = np.logspace(-3,0,7)\n",
    "learning_rate = 0.0003\n",
    "num_iters=5000\n",
    "load_prev=False\n",
    "load_model_path='/Users/jeff/Documents/Python/_projects/cyclingRNN/saves/D_0713-1449-29'\n",
    "local_machine=True"
   ]
  },
  {
   "cell_type": "code",
   "execution_count": null,
   "metadata": {
    "collapsed": false
   },
   "outputs": [
    {
     "name": "stdout",
     "output_type": "stream",
     "text": [
      "0 0.001\n",
      "0 0.001\n",
      "Current run: D_0713-2255-42\n",
      "iter: 0000 Loss: 0.183535\n",
      "iter: 0500 Loss: 0.039971\n",
      "iter: 1000 Loss: 0.027256\n",
      "iter: 1500 Loss: 0.024666\n",
      "iter: 2000 Loss: 0.024011\n",
      "iter: 2500 Loss: 0.023792\n",
      "iter: 3000 Loss: 0.023664\n",
      "iter: 3500 Loss: 0.023562\n",
      "iter: 4000 Loss: 0.023477\n",
      "iter: 4500 Loss: 0.023404\n",
      "iter: 4999 Loss: 0.023345\n",
      "Finished\n",
      "0 0.001\n",
      "1 0.00316227766017\n",
      "Current run: D_0713-2304-07\n",
      "iter: 0000 Loss: 0.231415\n",
      "iter: 0500 Loss: 0.047033\n",
      "iter: 1000 Loss: 0.028165\n",
      "iter: 1500 Loss: 0.025083\n",
      "iter: 2000 Loss: 0.024436\n",
      "iter: 2500 Loss: 0.024190\n",
      "iter: 3000 Loss: 0.024016\n",
      "iter: 3500 Loss: 0.023865\n",
      "iter: 4000 Loss: 0.023731\n",
      "iter: 4500 Loss: 0.023616\n",
      "iter: 4999 Loss: 0.023523\n",
      "Finished\n",
      "0 0.001\n",
      "2 0.01\n",
      "Current run: D_0713-2312-30\n",
      "iter: 0000 Loss: 0.351151\n",
      "iter: 0500 Loss: 0.055913\n",
      "iter: 1000 Loss: 0.028887\n",
      "iter: 1500 Loss: 0.025555\n",
      "iter: 2000 Loss: 0.024899\n",
      "iter: 2500 Loss: 0.024602\n",
      "iter: 3000 Loss: 0.024385\n",
      "iter: 3500 Loss: 0.024194\n",
      "iter: 4000 Loss: 0.024015\n",
      "iter: 4500 Loss: 0.023857\n",
      "iter: 4999 Loss: 0.023738\n",
      "Finished\n",
      "0 0.001\n",
      "3 0.0316227766017\n",
      "Current run: D_0713-2320-56\n",
      "iter: 0000 Loss: 0.705311\n",
      "iter: 0500 Loss: 0.090576\n",
      "iter: 1000 Loss: 0.033449\n",
      "iter: 1500 Loss: 0.026604\n",
      "iter: 2000 Loss: 0.025456\n",
      "iter: 2500 Loss: 0.025024\n",
      "iter: 3000 Loss: 0.024705\n",
      "iter: 3500 Loss: 0.024408\n",
      "iter: 4000 Loss: 0.024089\n",
      "iter: 4500 Loss: 0.023833\n",
      "iter: 4999 Loss: 0.023788\n",
      "Finished\n",
      "0 0.001\n",
      "4 0.1\n",
      "Current run: D_0713-2329-15\n",
      "iter: 0000 Loss: 1.983249\n",
      "iter: 0500 Loss: 0.215245\n",
      "iter: 1000 Loss: 0.045196\n",
      "iter: 1500 Loss: 0.028211\n",
      "iter: 2000 Loss: 0.026202\n",
      "iter: 2500 Loss: 0.025540\n",
      "iter: 3000 Loss: 0.025038\n",
      "iter: 3500 Loss: 0.024445\n",
      "iter: 4000 Loss: 0.024047\n",
      "iter: 4500 Loss: 0.023999\n",
      "iter: 4999 Loss: 0.023958\n",
      "Finished\n",
      "0 0.001\n",
      "5 0.316227766017\n",
      "Current run: D_0713-2337-31\n",
      "iter: 0000 Loss: 5.959071\n",
      "iter: 0500 Loss: 0.603514\n",
      "iter: 1000 Loss: 0.081792\n",
      "iter: 1500 Loss: 0.032299\n",
      "iter: 2000 Loss: 0.027105\n",
      "iter: 2500 Loss: 0.025897\n",
      "iter: 3000 Loss: 0.025124\n",
      "iter: 3500 Loss: 0.024357\n",
      "iter: 4000 Loss: 0.024315\n",
      "iter: 4500 Loss: 0.024284\n",
      "iter: 4999 Loss: 0.024256\n",
      "Finished\n",
      "0 0.001\n",
      "6 1.0\n",
      "Current run: D_0713-2345-43\n",
      "iter: 0000 Loss: 18.684319\n",
      "iter: 0500 Loss: 1.890871\n",
      "iter: 1000 Loss: 0.209022\n",
      "iter: 1500 Loss: 0.043513\n",
      "iter: 2000 Loss: 0.027924\n",
      "iter: 2500 Loss: 0.024950\n",
      "iter: 3000 Loss: 0.024711\n",
      "iter: 3500 Loss: 0.024676\n",
      "iter: 4000 Loss: 0.024652\n",
      "iter: 4500 Loss: 0.024630\n",
      "iter: 4999 Loss: 0.024608\n",
      "Finished\n",
      "1 0.00316227766017\n",
      "0 0.001\n",
      "Current run: D_0713-2353-59\n",
      "iter: 0000 Loss: 0.295268\n",
      "iter: 0500 Loss: 0.038754\n",
      "iter: 1000 Loss: 0.026438\n",
      "iter: 1500 Loss: 0.024803\n",
      "iter: 2000 Loss: 0.024287\n",
      "iter: 2500 Loss: 0.024035\n",
      "iter: 3000 Loss: 0.023882\n",
      "iter: 3500 Loss: 0.023777\n",
      "iter: 4000 Loss: 0.023695\n",
      "iter: 4500 Loss: 0.023621\n",
      "iter: 4999 Loss: 0.023553\n",
      "Finished\n",
      "1 0.00316227766017\n",
      "1 0.00316227766017\n",
      "Current run: D_0714-0002-46\n",
      "iter: 0000 Loss: 0.328344\n",
      "iter: 0500 Loss: 0.043379\n",
      "iter: 1000 Loss: 0.027048\n",
      "iter: 1500 Loss: 0.025242\n",
      "iter: 2000 Loss: 0.024716\n",
      "iter: 2500 Loss: 0.024395\n",
      "iter: 3000 Loss: 0.024160\n",
      "iter: 3500 Loss: 0.023987\n",
      "iter: 4000 Loss: 0.023862\n",
      "iter: 4500 Loss: 0.023772\n",
      "iter: 4999 Loss: 0.023707\n",
      "Finished\n",
      "1 0.00316227766017\n",
      "2 0.01\n",
      "Current run: D_0714-0011-42\n",
      "iter: 0000 Loss: 0.456684\n",
      "iter: 0500 Loss: 0.056203\n",
      "iter: 1000 Loss: 0.029379\n",
      "iter: 1500 Loss: 0.026243\n",
      "iter: 2000 Loss: 0.025413\n",
      "iter: 2500 Loss: 0.024906\n",
      "iter: 3000 Loss: 0.024501\n",
      "iter: 3500 Loss: 0.024199\n",
      "iter: 4000 Loss: 0.024001\n",
      "iter: 4500 Loss: 0.023885\n",
      "iter: 4999 Loss: 0.023817\n",
      "Finished\n",
      "1 0.00316227766017\n",
      "3 0.0316227766017\n",
      "Current run: D_0714-0020-28\n",
      "iter: 0000 Loss: 0.829856\n",
      "iter: 0500 Loss: 0.093218\n",
      "iter: 1000 Loss: 0.034349\n",
      "iter: 1500 Loss: 0.027821\n",
      "iter: 2000 Loss: 0.026445\n",
      "iter: 2500 Loss: 0.025629\n",
      "iter: 3000 Loss: 0.024818\n",
      "iter: 3500 Loss: 0.024281\n",
      "iter: 4000 Loss: 0.024130\n",
      "iter: 4500 Loss: 0.024060\n",
      "iter: 4999 Loss: 0.024005\n",
      "Finished\n",
      "1 0.00316227766017\n",
      "4 0.1\n",
      "Current run: D_0714-0030-24\n",
      "iter: 0000 Loss: 2.117775\n",
      "iter: 0500 Loss: 0.229573\n",
      "iter: 1000 Loss: 0.050495\n",
      "iter: 1500 Loss: 0.030816\n",
      "iter: 2000 Loss: 0.027938\n",
      "iter: 2500 Loss: 0.026616\n",
      "iter: 3000 Loss: 0.025231\n",
      "iter: 3500 Loss: 0.024814\n",
      "iter: 4000 Loss: 0.024641\n",
      "iter: 4500 Loss: 0.024514\n",
      "iter: 4999 Loss: 0.024413\n",
      "Finished\n",
      "1 0.00316227766017\n",
      "5 0.316227766017\n",
      "Current run: D_0714-0039-55\n",
      "iter: 0000 Loss: 6.011353\n"
     ]
    }
   ],
   "source": [
    "y_tf = np.zeros((beta1.size, beta2.size), dtype=object)\n",
    "x_tf = np.zeros((beta1.size, beta2.size), dtype=object)\n",
    "loss_val = np.zeros((beta1.size, beta2.size), dtype=object)\n",
    "\n",
    "for i, i_val in enumerate(beta1):\n",
    "    for j, j_val in enumerate(beta2):\n",
    "        print i,i_val\n",
    "        print j,j_val\n",
    "        y_tf[i,j], x_tf[i,j], loss_val[i,j] = run_rnn(monkey=monkey,\n",
    "                                                        beta1=i_val,\n",
    "                                                        beta2=j_val,\n",
    "                                                        learning_rate=learning_rate,\n",
    "                                                        num_iters=num_iters,\n",
    "                                                        load_prev=load_prev,\n",
    "                                                        load_model_path=load_model_path,\n",
    "                                                        local_machine=local_machine)\n",
    "        np.save('./y_tf', y_tf)\n",
    "        np.save('./x_tf', x_tf)"
   ]
  },
  {
   "cell_type": "markdown",
   "metadata": {},
   "source": [
    "## Plot fit quality"
   ]
  },
  {
   "cell_type": "code",
   "execution_count": null,
   "metadata": {
    "collapsed": true
   },
   "outputs": [],
   "source": [
    "ii = 0\n",
    "jj = 0"
   ]
  },
  {
   "cell_type": "code",
   "execution_count": null,
   "metadata": {
    "collapsed": false
   },
   "outputs": [],
   "source": [
    "rows = 4\n",
    "cols = 2\n",
    "\n",
    "with sns.color_palette(n_colors=4):\n",
    "    f, ax = plt.subplots(rows,cols, figsize=(20,20))\n",
    "    for i in range(rows):\n",
    "        for j in range(cols):\n",
    "            muscle = np.ravel_multi_index((i,j), (rows,cols))\n",
    "            ax[i,j].plot(emg_[:,:,muscle], linewidth=2, alpha=1)\n",
    "            ax[i,j].plot(y_tf[ii,jj][:,:,muscle],'--',linewidth=4, alpha=0.5)\n",
    "            ax[i,j].set_title(str(muscle))\n",
    "plt.show()"
   ]
  },
  {
   "cell_type": "markdown",
   "metadata": {},
   "source": [
    "## RNN neuron PC plots"
   ]
  },
  {
   "cell_type": "code",
   "execution_count": null,
   "metadata": {
    "collapsed": false
   },
   "outputs": [],
   "source": [
    "pca_x = sk.decomposition.PCA(n_components=5)\n",
    "pca_y = sk.decomposition.PCA(n_components=5)\n",
    "\n",
    "pca_x.fit(np.concatenate([x_tf[ii,jj][:,i,:] for i in range(4)]))\n",
    "pca_y.fit(np.concatenate([y_tf[ii,jj][:,i,:] for i in range(4)]))"
   ]
  },
  {
   "cell_type": "code",
   "execution_count": null,
   "metadata": {
    "collapsed": false
   },
   "outputs": [],
   "source": [
    "# plot PCs for the RNN state variable\n",
    "make_pairgrid([np.dot(x_tf[ii,jj][:,i,:], pca_x.components_.T) for i in range(4)])"
   ]
  },
  {
   "cell_type": "markdown",
   "metadata": {},
   "source": [
    "## RNN activations"
   ]
  },
  {
   "cell_type": "code",
   "execution_count": null,
   "metadata": {
    "collapsed": false
   },
   "outputs": [],
   "source": [
    "rows = 10\n",
    "cols = 4\n",
    "f, ax = plt.subplots(rows,cols, figsize=(20,20))\n",
    "\n",
    "for i in range(rows):\n",
    "    for j in range(cols):\n",
    "        neuron = np.ravel_multi_index((i,j), (rows,cols))\n",
    "        ax[i,j].plot(x_tf[ii,jj][:,:,neuron])\n",
    "        ax[i,j].set_title(str(neuron))\n",
    "plt.show()"
   ]
  },
  {
   "cell_type": "markdown",
   "metadata": {},
   "source": [
    "### export to stupid lab"
   ]
  }
 ],
 "metadata": {
  "kernelspec": {
   "display_name": "Python 2",
   "language": "python",
   "name": "python2"
  },
  "language_info": {
   "codemirror_mode": {
    "name": "ipython",
    "version": 2
   },
   "file_extension": ".py",
   "mimetype": "text/x-python",
   "name": "python",
   "nbconvert_exporter": "python",
   "pygments_lexer": "ipython2",
   "version": "2.7.12"
  }
 },
 "nbformat": 4,
 "nbformat_minor": 0
}
