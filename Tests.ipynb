{
 "cells": [
  {
   "cell_type": "markdown",
   "metadata": {},
   "source": [
    "# Notebook for Testing code\n"
   ]
  },
  {
   "cell_type": "code",
   "execution_count": 7,
   "metadata": {
    "collapsed": false
   },
   "outputs": [
    {
     "name": "stdout",
     "output_type": "stream",
     "text": [
      "The autoreload extension is already loaded. To reload it, use:\n",
      "  %reload_ext autoreload\n"
     ]
    }
   ],
   "source": [
    "%reset -f\n",
    "%matplotlib inline\n",
    "%load_ext autoreload\n",
    "%autoreload 2"
   ]
  },
  {
   "cell_type": "code",
   "execution_count": 8,
   "metadata": {
    "collapsed": false,
    "scrolled": true
   },
   "outputs": [],
   "source": [
    "import numpy as np\n",
    "import scipy.io as sio\n",
    "import sklearn as sk\n",
    "from sklearn.grid_search import ParameterGrid\n",
    "from sklearn import decomposition\n",
    "import matplotlib as mpl\n",
    "import matplotlib.pyplot as plt\n",
    "import seaborn as sns\n",
    "import tensorflow as tf\n",
    "import pandas as pd\n",
    "import datetime\n",
    "import pickle\n",
    "import os\n",
    "from cycling_rnn import *"
   ]
  },
  {
   "cell_type": "markdown",
   "metadata": {
    "collapsed": true
   },
   "source": [
    "## Plot settings"
   ]
  },
  {
   "cell_type": "code",
   "execution_count": 9,
   "metadata": {
    "collapsed": false
   },
   "outputs": [],
   "source": [
    "cmap = sns.color_palette('RdBu',5)[:2] + sns.color_palette('RdBu',5)[-2:]\n",
    "sns.set_palette(cmap)\n",
    "sns.set_context('paper', font_scale=1.5)"
   ]
  },
  {
   "cell_type": "markdown",
   "metadata": {},
   "source": [
    "## Load stuff"
   ]
  },
  {
   "cell_type": "code",
   "execution_count": 71,
   "metadata": {
    "collapsed": false
   },
   "outputs": [
    {
     "data": {
      "text/plain": [
       "{'activation': 'tanh',\n",
       " 'beta1': 0.0001,\n",
       " 'beta2': 0.0001,\n",
       " 'monkey': 'D',\n",
       " 'num_neurons': 464,\n",
       " 'stddev_out': 0.0001,\n",
       " 'stddev_state': 0.0001}"
      ]
     },
     "execution_count": 71,
     "metadata": {},
     "output_type": "execute_result"
    }
   ],
   "source": [
    "RUN = './saves/8-26/'\n",
    "param_grid = pickle.load(open(RUN+'npsaves/param_grid.pickle', 'rb'))\n",
    "\n",
    "sim = 22\n",
    "cur_params = ParameterGrid(param_grid)[sim]\n",
    "cur_params"
   ]
  },
  {
   "cell_type": "code",
   "execution_count": 72,
   "metadata": {
    "collapsed": false
   },
   "outputs": [],
   "source": [
    "# List directory\n",
    "# Number of sims in RUN\n",
    "total_sims = len(os.listdir(RUN+'tb'))\n",
    "\n",
    "# load x and y data\n",
    "x = np.load(RUN+'npsaves/'+str(sim)+'x.npy')\n",
    "y = np.load(RUN+'npsaves/'+str(sim)+'y.npy')"
   ]
  },
  {
   "cell_type": "code",
   "execution_count": 73,
   "metadata": {
    "collapsed": true
   },
   "outputs": [],
   "source": [
    "if cur_params['monkey']=='D':\n",
    "    data = sio.loadmat('/Users/jeff/Documents/Python/_projects/cyclingRNN/drakeFeb_processed.mat')\n",
    "else:\n",
    "    data = sio.loadmat('/Users/jeff/Documents/Python/_projects/cyclingRNN/cousFeb_processed.mat')\n",
    "    \n",
    "emg = data['EMG']\n",
    "m1 = data['M1']\n",
    "\n",
    "x = x[:emg.shape[0], :emg.shape[1], :]\n",
    "y = y[:emg.shape[0], :emg.shape[1], :]"
   ]
  },
  {
   "cell_type": "markdown",
   "metadata": {},
   "source": [
    "## Do stuff"
   ]
  },
  {
   "cell_type": "code",
   "execution_count": 74,
   "metadata": {
    "collapsed": true
   },
   "outputs": [],
   "source": [
    "# Iterable Parameters\n",
    "param_grid = {}\n",
    "param_grid['activation'] = ['tanh', 'linear']\n",
    "param_grid['beta1'] = np.logspace(-4, 2, 13)\n",
    "param_grid['beta2'] = np.logspace(-4, 2, 13)\n",
    "param_grid['stddev_state'] = np.logspace(-4, 2, 13)\n",
    "param_grid['stddev_out'] = np.logspace(-4, 2, 13)\n",
    "param_grid['monkey'] =['D']\n",
    "param_grid['num_neurons'] = np.concatenate((np.array([100]).astype(int), np.round(np.logspace(1, 3, 13)).astype(int)), axis=0)\n",
    "\n",
    "val_lengths = [len(v) for k, v in sorted(param_grid.items())]\n",
    "\n",
    "# Make a copy of param_grid to export to matlab.\n",
    "param_grid_matlab = copy.deepcopy(param_grid)\n",
    "param_grid_matlab['val_lengths'] = val_lengths\n",
    "param_grid_matlab['sorted'] = sorted(param_grid)\n",
    "\n",
    "# val_lengths ordered by keys\n",
    "# Important: apparently ParameterGrid() orders lexicographically based on keys.\n",
    "\n",
    "# Split param_grid to search along hyperparameter axes only\n",
    "param_grid = parameter_grid_split(param_grid)"
   ]
  },
  {
   "cell_type": "code",
   "execution_count": 70,
   "metadata": {
    "collapsed": false
   },
   "outputs": [
    {
     "data": {
      "text/plain": [
       "{'activation': 'tanh',\n",
       " 'beta1': 0.0001,\n",
       " 'beta2': 0.0001,\n",
       " 'monkey': 'D',\n",
       " 'num_neurons': 100,\n",
       " 'stddev_out': 0.0001,\n",
       " 'stddev_state': 0.0001}"
      ]
     },
     "execution_count": 70,
     "metadata": {},
     "output_type": "execute_result"
    }
   ],
   "source": [
    "ParameterGrid(param_grid)[19]"
   ]
  },
  {
   "cell_type": "code",
   "execution_count": null,
   "metadata": {
    "collapsed": true
   },
   "outputs": [],
   "source": []
  },
  {
   "cell_type": "code",
   "execution_count": null,
   "metadata": {
    "collapsed": true
   },
   "outputs": [],
   "source": []
  },
  {
   "cell_type": "code",
   "execution_count": null,
   "metadata": {
    "collapsed": true
   },
   "outputs": [],
   "source": []
  },
  {
   "cell_type": "code",
   "execution_count": null,
   "metadata": {
    "collapsed": true
   },
   "outputs": [],
   "source": []
  },
  {
   "cell_type": "code",
   "execution_count": null,
   "metadata": {
    "collapsed": true
   },
   "outputs": [],
   "source": []
  },
  {
   "cell_type": "code",
   "execution_count": null,
   "metadata": {
    "collapsed": true
   },
   "outputs": [],
   "source": []
  },
  {
   "cell_type": "code",
   "execution_count": null,
   "metadata": {
    "collapsed": true
   },
   "outputs": [],
   "source": []
  },
  {
   "cell_type": "code",
   "execution_count": null,
   "metadata": {
    "collapsed": true
   },
   "outputs": [],
   "source": []
  },
  {
   "cell_type": "code",
   "execution_count": null,
   "metadata": {
    "collapsed": true
   },
   "outputs": [],
   "source": []
  },
  {
   "cell_type": "code",
   "execution_count": null,
   "metadata": {
    "collapsed": true
   },
   "outputs": [],
   "source": []
  },
  {
   "cell_type": "code",
   "execution_count": null,
   "metadata": {
    "collapsed": true
   },
   "outputs": [],
   "source": []
  },
  {
   "cell_type": "code",
   "execution_count": null,
   "metadata": {
    "collapsed": true
   },
   "outputs": [],
   "source": []
  },
  {
   "cell_type": "code",
   "execution_count": null,
   "metadata": {
    "collapsed": true
   },
   "outputs": [],
   "source": []
  }
 ],
 "metadata": {
  "kernelspec": {
   "display_name": "Python 2",
   "language": "python",
   "name": "python2"
  },
  "language_info": {
   "codemirror_mode": {
    "name": "ipython",
    "version": 2
   },
   "file_extension": ".py",
   "mimetype": "text/x-python",
   "name": "python",
   "nbconvert_exporter": "python",
   "pygments_lexer": "ipython2",
   "version": "2.7.12"
  }
 },
 "nbformat": 4,
 "nbformat_minor": 0
}
