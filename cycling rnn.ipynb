{
 "cells": [
  {
   "cell_type": "code",
   "execution_count": 60,
   "metadata": {
    "collapsed": true
   },
   "outputs": [],
   "source": [
    "%reset -f\n",
    "%matplotlib inline"
   ]
  },
  {
   "cell_type": "code",
   "execution_count": 61,
   "metadata": {
    "collapsed": true
   },
   "outputs": [],
   "source": [
    "import numpy as np\n",
    "import scipy.io as sio\n",
    "import sklearn as sk\n",
    "import matplotlib as mpl\n",
    "import matplotlib.pyplot as plt\n",
    "import seaborn as sns\n",
    "import tensorflow as tf"
   ]
  },
  {
   "cell_type": "code",
   "execution_count": 62,
   "metadata": {
    "collapsed": false
   },
   "outputs": [],
   "source": [
    "data = sio.loadmat('/Users/jeff/Documents/Python/_projects/cyclingRNN/drakeFeb.mat')"
   ]
  },
  {
   "cell_type": "code",
   "execution_count": 63,
   "metadata": {
    "collapsed": false
   },
   "outputs": [
    {
     "name": "stdout",
     "output_type": "stream",
     "text": [
      "M1 shape (5092, 113, 2, 2)\n",
      "EMG shape (5092, 36, 2, 2)\n"
     ]
    }
   ],
   "source": [
    "m1 = np.transpose(data['D'][0,0]['M1'], [1, 0, 2, 3])\n",
    "emg = np.transpose(data['D'][0,0]['EMG'], [1, 0, 2, 3])\n",
    "\n",
    "print 'M1 shape '+str(m1.shape)\n",
    "print 'EMG shape '+str(emg.shape)"
   ]
  },
  {
   "cell_type": "markdown",
   "metadata": {},
   "source": [
    "RNN"
   ]
  },
  {
   "cell_type": "code",
   "execution_count": 64,
   "metadata": {
    "collapsed": true
   },
   "outputs": [],
   "source": [
    "from tensorflow.models.rnn import rnn, rnn_cell"
   ]
  },
  {
   "cell_type": "code",
   "execution_count": 106,
   "metadata": {
    "collapsed": true
   },
   "outputs": [],
   "source": [
    "# Some batch-related functions\n",
    "def hankelize(a, num_steps_):\n",
    "    \"\"\"\n",
    "    Convert size (T,n) matrix to size (num_steps, T-num_steps, n) tensor.\n",
    "    Different batches can now be selected by a[:,batch_inds,:].\n",
    "    (Hankelize is not the correct term).\n",
    "    \"\"\"\n",
    "    dims = a.shape\n",
    "    T_new = dims[0] - num_steps_\n",
    "    b = np.zeros((T_new, num_steps_) + dims[1:])\n",
    "    for i in range(T_new):\n",
    "        b[i,:,:] = a[i:i+num_steps_, :]\n",
    "    inds = np.arange(a.ndim)\n",
    "    inds[0], inds[1] = inds[1], inds[0]\n",
    "    b = np.transpose(b, inds) # |\n",
    "    return b\n",
    "\n",
    "def get_rand_batch(a, batch_size_):\n",
    "    \"\"\"\n",
    "    args: \n",
    "        a: size (num_steps, T_new, n) array\n",
    "        batch_size: how many batches to select\n",
    "    return:\n",
    "        inds: indices for initial states of each batch\n",
    "        a: size (num_steps, batch_size, n) array\n",
    "    \"\"\"\n",
    "    inds = np.random.choice(T_new, batch_size_)    \n",
    "    for i in range(len(a)):\n",
    "        a[i] = a[i][:,inds,:] \n",
    "    return inds, a"
   ]
  },
  {
   "cell_type": "code",
   "execution_count": 100,
   "metadata": {
    "collapsed": false
   },
   "outputs": [],
   "source": [
    "# Time and batch parameters\n",
    "num_steps = 30 \n",
    "batch_size = 50\n",
    "T_new = emg.shape[1] - num_steps"
   ]
  },
  {
   "cell_type": "code",
   "execution_count": 101,
   "metadata": {
    "collapsed": false
   },
   "outputs": [],
   "source": [
    "y_data = hankelize(emg, 10)"
   ]
  },
  {
   "cell_type": "code",
   "execution_count": 105,
   "metadata": {
    "collapsed": false
   },
   "outputs": [
    {
     "data": {
      "text/plain": [
       "(10, 5082, 36, 2, 2)"
      ]
     },
     "execution_count": 105,
     "metadata": {},
     "output_type": "execute_result"
    }
   ],
   "source": [
    "y_data.transpose([1,0,2,3,4]).shape"
   ]
  },
  {
   "cell_type": "markdown",
   "metadata": {},
   "source": [
    "### graph"
   ]
  },
  {
   "cell_type": "code",
   "execution_count": 108,
   "metadata": {
    "collapsed": true
   },
   "outputs": [],
   "source": [
    "tf.reset_default_graph()\n",
    "m = 0\n",
    "n = 100\n",
    "p = y_data.shape[1]"
   ]
  },
  {
   "cell_type": "code",
   "execution_count": null,
   "metadata": {
    "collapsed": true
   },
   "outputs": [],
   "source": [
    "X = tf.Variable()"
   ]
  }
 ],
 "metadata": {
  "kernelspec": {
   "display_name": "Python 2",
   "language": "python",
   "name": "python2"
  },
  "language_info": {
   "codemirror_mode": {
    "name": "ipython",
    "version": 2
   },
   "file_extension": ".py",
   "mimetype": "text/x-python",
   "name": "python",
   "nbconvert_exporter": "python",
   "pygments_lexer": "ipython2",
   "version": "2.7.11"
  }
 },
 "nbformat": 4,
 "nbformat_minor": 0
}
