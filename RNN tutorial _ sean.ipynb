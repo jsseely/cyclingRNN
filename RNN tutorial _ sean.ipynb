{
 "cells": [
  {
   "cell_type": "code",
   "execution_count": 1,
   "metadata": {
    "collapsed": false
   },
   "outputs": [],
   "source": [
    "%reset -f\n",
    "%matplotlib inline"
   ]
  },
  {
   "cell_type": "code",
   "execution_count": 4,
   "metadata": {
    "collapsed": true
   },
   "outputs": [],
   "source": [
    "import numpy as np\n",
    "import scipy.io as sio\n",
    "import sklearn as sk\n",
    "from sklearn import decomposition\n",
    "\n",
    "import matplotlib as mpl\n",
    "import matplotlib.pyplot as plt\n",
    "import seaborn as sns\n",
    "import tensorflow as tf\n",
    "import pandas as pd\n",
    "from scipy import stats\n",
    "\n",
    "\n",
    "import datetime"
   ]
  },
  {
   "cell_type": "code",
   "execution_count": 5,
   "metadata": {
    "collapsed": false
   },
   "outputs": [],
   "source": [
    "cmap = sns.color_palette('RdBu',5)[:2] + sns.color_palette('RdBu',5)[-2:]\n",
    "sns.set_palette(cmap)"
   ]
  },
  {
   "cell_type": "code",
   "execution_count": 28,
   "metadata": {
    "collapsed": true
   },
   "outputs": [],
   "source": [
    "a = 4\n",
    "b = 4"
   ]
  },
  {
   "cell_type": "code",
   "execution_count": 29,
   "metadata": {
    "collapsed": false
   },
   "outputs": [
    {
     "data": {
      "image/png": "[encoded data removed]",
      "text/plain": [
       "<matplotlib.figure.Figure at 0x12077c910>"
      ]
     },
     "metadata": {},
     "output_type": "display_data"
    }
   ],
   "source": [
    "plt.plot(np.arange(-1,2,.01),stats.beta.pdf(np.arange(-1,2,.01), a, b))\n",
    "plt.show()"
   ]
  },
  {
   "cell_type": "code",
   "execution_count": 91,
   "metadata": {
    "collapsed": true
   },
   "outputs": [],
   "source": [
    "dt = 0.001\n",
    "tau = 0.01\n",
    "t_pulse = 0.020\n",
    "t_inter_min = 0.060\n",
    "t_inter_max = 0.6\n",
    "t_reset_min = 0.25\n",
    "t_reset_max = 0.75\n",
    "t_end_min = 0.1\n",
    "t_end_max = 0.3\n",
    "beta_width = 0.06"
   ]
  },
  {
   "cell_type": "code",
   "execution_count": 92,
   "metadata": {
    "collapsed": false
   },
   "outputs": [
    {
     "data": {
      "text/plain": [
       "array([-1., -1., -1., -1., -1., -1., -1., -1., -1., -1.])"
      ]
     },
     "execution_count": 92,
     "metadata": {},
     "output_type": "execute_result"
    }
   ],
   "source": [
    "-1*np.ones(10)"
   ]
  },
  {
   "cell_type": "code",
   "execution_count": 195,
   "metadata": {
    "collapsed": false
   },
   "outputs": [],
   "source": [
    "num_in = 2\n",
    "num_out = 10\n",
    "\n",
    "batch_size = 2\n",
    "num_steps = 1000\n",
    "dt = .001\n",
    "def generate_data(trial_end_=-1*np.ones(batch_size), scale_=-1*np.ones(batch_size), start_=-1*np.ones(batch_size), interval_=-1*np.ones(batch_size)):\n",
    "    \"\"\"\n",
    "    trial_end\n",
    "    scale_\n",
    "    start_\n",
    "    \n",
    "    \"\"\"\n",
    "    U = np.zeros((num_steps, batch_size, num_in))\n",
    "    Y = np.zeros((num_steps, batch_size, num_out))\n",
    "    time_=time\n",
    "    for i in range(num_steps):\n",
    "        for j in range(batch_size):\n",
    "            if trial_end_[j] == -1 or np.abs(time_ - trial_end_[j])<=0.5*dt:\n",
    "                # set up variables for this batch\n",
    "                start_[j] = time_ + (t_reset_max - t_reset_min)*np.random.rand(1) + t_reset_min\n",
    "                interval_[j] = (t_inter_max - t_inter_min)*np.random.rand(1) + t_inter_min\n",
    "                scale_[j] = interval_[j]/t_inter_min\n",
    "                trial_end_[j] = start_[j] + 2*interval_[j] + 0.5*beta_width*scale_[j]+(t_end_max - t_end_min)*np.random.rand(1) + t_end_min\n",
    "            if time_ < start_[j]:\n",
    "                U[i,j,0] = 1\n",
    "            else:\n",
    "                U[i,j,0] = 0\n",
    "            if time_ > start_[j] + interval_[j] and time_ <= start_[j] + interval_[j] + t_pulse:\n",
    "                U[i,j,1] = 1\n",
    "            else:\n",
    "                U[i,j,1] = 0\n",
    "            for k in range(num_out):\n",
    "                go = start_[j] + interval_[j] + (k+1)*interval_[j]/num_out\n",
    "                scale = scale_[j]*(k+1)/num_out\n",
    "                Y[i,j,k] = stats.beta.pdf((time_ - go)/(scale*beta_width)+0.5,4,4)/stats.beta.pdf(0.5,4,4)\n",
    "        time_=time_+dt        \n",
    "\n",
    "    return U, Y, trial_end_, scale_, start_, interval_"
   ]
  },
  {
   "cell_type": "code",
   "execution_count": 194,
   "metadata": {
    "collapsed": false
   },
   "outputs": [
    {
     "name": "stdout",
     "output_type": "stream",
     "text": [
      "0.0\n",
      "1.0\n"
     ]
    }
   ],
   "source": [
    "U_all = []\n",
    "Y_all = []\n",
    "for t in range(2):\n",
    "    time = t*num_steps*dt\n",
    "    if t == 0:\n",
    "        U_out, Y_out, trial_end, scale, start, interval = generate_data()\n",
    "    else:\n",
    "        U_out, Y_out, trial_end, scale, start, interval = generate_data(trial_end_=trial_end, scale_=scale, start_=start, interval_=interval)\n",
    "    U_all.append(U_out)\n",
    "    Y_all.append(Y_out)"
   ]
  },
  {
   "cell_type": "code",
   "execution_count": 196,
   "metadata": {
    "collapsed": false
   },
   "outputs": [],
   "source": [
    "U_all_ = np.concatenate(U_all)\n",
    "Y_all_ = np.concatenate(Y_all)"
   ]
  },
  {
   "cell_type": "code",
   "execution_count": 201,
   "metadata": {
    "collapsed": false
   },
   "outputs": [
    {
     "data": {
      "image/png": "[encoded data removed]",
      "text/plain": [
       "<matplotlib.figure.Figure at 0x12332f0d0>"
      ]
     },
     "metadata": {},
     "output_type": "display_data"
    }
   ],
   "source": [
    "plt.plot(U_all_[:,0,:])\n",
    "plt.show()"
   ]
  },
  {
   "cell_type": "code",
   "execution_count": 202,
   "metadata": {
    "collapsed": false
   },
   "outputs": [
    {
     "data": {
      "image/png": "[encoded data removed]",
      "text/plain": [
       "<matplotlib.figure.Figure at 0x1208033d0>"
      ]
     },
     "metadata": {},
     "output_type": "display_data"
    }
   ],
   "source": [
    "plt.plot(Y_all_[:,0,:])\n",
    "plt.show()"
   ]
  },
  {
   "cell_type": "markdown",
   "metadata": {},
   "source": [
    "## Set up input and output data for tensorflow"
   ]
  },
  {
   "cell_type": "code",
   "execution_count": 13,
   "metadata": {
    "collapsed": false
   },
   "outputs": [],
   "source": [
    "# # Some batch-related functions\n",
    "# def hankelize(a, time_steps_):\n",
    "#     \"\"\"\n",
    "#     Convert size (T,n) matrix to size (num_steps, T-num_steps+1 , n) tensor.\n",
    "#     Different batches can now be selected by a[:,batch_inds,:].\n",
    "#     \"\"\"\n",
    "#     dims = a.shape\n",
    "#     T_new_ = dims[0] - time_steps_ + 1\n",
    "#     b = np.zeros((T_new_, time_steps_) + dims[1:])\n",
    "#     for i in range(T_new_):\n",
    "#         b[i,:,:] = a[i:i+time_steps_, :]\n",
    "#     inds = range(b.ndim)\n",
    "#     inds[0], inds[1] = inds[1], inds[0]\n",
    "#     b = np.transpose(b, inds) # |\n",
    "#     return b\n",
    "\n",
    "# def get_rand_batch(data_, batch_size_):\n",
    "#     '''\n",
    "#     args:\n",
    "#     return:\n",
    "#     '''\n",
    "#     inds = np.random.choice(data_[0].shape[1], batch_size_)\n",
    "#     for i in range(len(data_)):\n",
    "#         data_[i] = data_[i][:,inds,:]\n",
    "#     return inds, data_\n",
    "\n",
    "# def get_next_batch(data_, batch_counter_):\n",
    "#     \"\"\"  \"\"\"\n",
    "#     batch_counter += 1\n",
    "#     for i in range(len(data_)):\n",
    "#         data_[i] = data_[i][:,inds,:]\n",
    "#     return data_"
   ]
  },
  {
   "cell_type": "markdown",
   "metadata": {},
   "source": [
    "## Build tensorflow graph"
   ]
  },
  {
   "cell_type": "code",
   "execution_count": null,
   "metadata": {
    "collapsed": true
   },
   "outputs": [],
   "source": []
  },
  {
   "cell_type": "code",
   "execution_count": null,
   "metadata": {
    "collapsed": true
   },
   "outputs": [],
   "source": [
    "class CTRNNCell(RNNCell):\n",
    "  \"\"\"The most basic RNN cell.\"\"\"\n",
    "\n",
    "  def __init__(self, num_units, input_size=None, activation=tanh, dt_tau=0.1):\n",
    "    if input_size is not None:\n",
    "      logging.warn(\"%s: The input_size parameter is deprecated.\" % self)\n",
    "    self._num_units = num_units\n",
    "    self._activation = activation\n",
    "    self._dt_tau = dt_tau\n",
    "\n",
    "  @property\n",
    "  def state_size(self):\n",
    "    return self._num_units\n",
    "\n",
    "  @property\n",
    "  def output_size(self):\n",
    "    return self._num_units\n",
    "\n",
    "  def __call__(self, inputs, state, scope=None):\n",
    "    \"\"\"Most basic RNN: output = new_state = activation(W * input + U * state + B).\"\"\"\n",
    "    with vs.variable_scope(scope or type(self).__name__):  # \"BasicRNNCell\"\n",
    "        J = tf.get_variable('J', [self._num_units, self._num_units], dtype=tf.float32, initializer=array_ops.random_normal_initializer)\n",
    "        output = (1 - self._dt_tau)*[state] + self.dt_tau*(tf.matmul())\n",
    "      output = self._activation(_linear([inputs, state], self._num_units, True))\n",
    "    return output, output\n"
   ]
  },
  {
   "cell_type": "code",
   "execution_count": 495,
   "metadata": {
    "collapsed": false
   },
   "outputs": [],
   "source": [
    "tf.reset_default_graph()\n",
    "\n",
    "n = 100 # n = 100 neurons\n",
    "\n",
    "x0 = tf.Variable(tf.random_normal([batch_size,n], stddev=0.01), name='x0')\n",
    "\n",
    "C = tf.Variable(tf.random_normal([n,p], stddev=1/np.sqrt(n)), name='C')\n",
    "d = tf.Variable(tf.constant(0.01, shape=[1,p]), name='d')\n",
    "\n",
    "B = tf.Variable(tf.random_normal([m,n], stddev=1/np.sqrt(n)), name='B')\n",
    "\n",
    "U = tf.placeholder(tf.float32, [time_steps, None, m], name='U')\n",
    "Y = tf.placeholder(tf.float32, [time_steps, None, p], name='Y')\n",
    "\n",
    "U_ = tf.unpack(U)\n",
    "U_ = [tf.matmul(U_[i], B) for i in range(time_steps)]\n",
    "U_ = tf.pack(U_)\n",
    "\n",
    "cell = tf.nn.rnn_cell.BasicRNNCell(n)\n",
    "cell = tf.nn.rnn_cell.OutputProjectionWrapper(cell,p)\n",
    "#cell = tf.nn.rnn_cell.DropoutWrapper(cell, output_keep_prob=0.5)\n",
    "output, state = tf.nn.dynamic_rnn(cell, U_, initial_state=x0, dtype=tf.float32, time_major=True)\n",
    "\n",
    "#Y_hat = tf.unpack(output)\n",
    "#Y_hat = [tf.matmul(Y_hat[i], C) + d for i in range(time_steps)]\n",
    "#Y_hat = tf.pack(Y_hat)\n",
    "\n",
    "#output_diff = tf.gather(output, range(1,time_steps))-tf.gather(output, range(0,time_steps-1))\n",
    "\n",
    "#Get A matrix\n",
    "with tf.variable_scope('RNN/BasicRNNCell/Linear', reuse=True):\n",
    "    A = tf.get_variable('Matrix')\n",
    "    b = tf.get_variable('Bias')"
   ]
  },
  {
   "cell_type": "code",
   "execution_count": 500,
   "metadata": {
    "collapsed": false
   },
   "outputs": [
    {
     "data": {
      "text/plain": [
       "[u'x0:0',\n",
       " u'C:0',\n",
       " u'd:0',\n",
       " u'B:0',\n",
       " u'RNN/BasicRNNCell/Linear/Matrix:0',\n",
       " u'RNN/BasicRNNCell/Linear/Bias:0',\n",
       " u'RNN/OutputProjectionWrapper/Linear/Matrix:0',\n",
       " u'RNN/OutputProjectionWrapper/Linear/Bias:0']"
      ]
     },
     "execution_count": 500,
     "metadata": {},
     "output_type": "execute_result"
    }
   ],
   "source": [
    "[tf.all_variables()[i].name for i in range(len(tf.all_variables()))]"
   ]
  },
  {
   "cell_type": "code",
   "execution_count": 502,
   "metadata": {
    "collapsed": false
   },
   "outputs": [
    {
     "data": {
      "text/plain": [
       "TensorShape([Dimension(36)])"
      ]
     },
     "execution_count": 502,
     "metadata": {},
     "output_type": "execute_result"
    }
   ],
   "source": [
    "tf.all_variables()[-1].get_shape()"
   ]
  },
  {
   "cell_type": "code",
   "execution_count": null,
   "metadata": {
    "collapsed": false
   },
   "outputs": [],
   "source": [
    "beta1 = 0.0\n",
    "beta2 = 0.0\n",
    "gamma = 0.0\n",
    "cost = tf.reduce_mean((Y_hat - Y)**2)\n",
    "+beta1*tf.nn.l2_loss(A)\n",
    "+beta2*tf.nn.l2_loss(C) \n",
    "#+gamma*tf.nn.l2_loss(output_diff)\n",
    "        \n",
    "train_op = tf.train.AdamOptimizer(learning_rate=0.0001) # 0.0001 \n",
    "# add gradient_noise? \n",
    "#grads_and_vars = train_op.compute_gradients(cost)\n",
    "opt_op = train_op.minimize(cost)"
   ]
  },
  {
   "cell_type": "code",
   "execution_count": null,
   "metadata": {
    "collapsed": true
   },
   "outputs": [],
   "source": [
    "tf.scalar_summary('loss', cost)\n",
    "\n",
    "tf.histogram_summary('A', A)\n",
    "tf.histogram_summary('B', B)\n",
    "tf.histogram_summary('b', b)\n",
    "tf.histogram_summary('C', C)\n",
    "tf.histogram_summary('d', d)\n",
    "tf.histogram_summary('x0', x0)\n",
    "\n",
    "merged_summary_op = tf.merge_all_summaries()"
   ]
  },
  {
   "cell_type": "code",
   "execution_count": null,
   "metadata": {
    "collapsed": false
   },
   "outputs": [],
   "source": [
    "saver = tf.train.Saver()\n",
    "cur_run = monkey+'_'+str(datetime.datetime.now().strftime(\"%m%d-%H%M-%S\"))\n",
    "load_model_path = './saves/'+cur_run\n",
    "save_model_path = './saves/'+cur_run"
   ]
  },
  {
   "cell_type": "code",
   "execution_count": null,
   "metadata": {
    "collapsed": false
   },
   "outputs": [],
   "source": [
    "print cur_run"
   ]
  },
  {
   "cell_type": "markdown",
   "metadata": {},
   "source": [
    "## Train"
   ]
  },
  {
   "cell_type": "code",
   "execution_count": null,
   "metadata": {
    "collapsed": false
   },
   "outputs": [],
   "source": [
    "with tf.Session() as sess:\n",
    "    summary_writer = tf.train.SummaryWriter('/tmp/tensorflow_logs/'+cur_run, graph=sess.graph)\n",
    "    sess.run(tf.initialize_all_variables())\n",
    "    #saver.restore(sess, load_model_path) # comment out if not loading\n",
    "\n",
    "    for i in range(2000):\n",
    "        feed_dict = {Y: y_data, U: u_data}\n",
    "        _, loss_val, summary_str = sess.run([opt_op, cost, merged_summary_op], feed_dict=feed_dict)\n",
    "        summary_writer.add_summary(summary_str, i)\n",
    "\n",
    "        if i % 500 == 0:\n",
    "            print 'iter:', '%04d' % (i), \\\n",
    "                  'Loss:', '{:.6f}'.format(loss_val)\n",
    "            saver.save(sess, save_model_path)\n",
    "\n",
    "    print 'iter:', '%04d' % (i), \\\n",
    "          'Loss:', '{:.6f}'.format(loss_val)\n",
    "    saver.save(sess, save_model_path)\n",
    "\n",
    "    print 'Finished'\n",
    "\n",
    "    # simulate model\n",
    "    y_tf, x_tf = sess.run([Y_hat, output], feed_dict=feed_dict)"
   ]
  },
  {
   "cell_type": "code",
   "execution_count": null,
   "metadata": {
    "collapsed": true
   },
   "outputs": [],
   "source": [
    "# def dehankelize(data_):\n",
    "#     data_ = np.concatenate([data_[:,i,:] for i in range(data_.shape[1])])\n",
    "#     data_ = np.reshape(data_, (data_.shape[0]/4, 4, data_.shape[1]), order='F')\n",
    "#     data_ = np.transpose(data_, (0,2,1))\n",
    "#     return data_"
   ]
  },
  {
   "cell_type": "code",
   "execution_count": null,
   "metadata": {
    "collapsed": false
   },
   "outputs": [],
   "source": [
    "# y_tf_ = dehankelize(y_tf)\n",
    "# x_tf_ = dehankelize(x_tf)"
   ]
  },
  {
   "cell_type": "markdown",
   "metadata": {},
   "source": [
    "## Plot fit quality"
   ]
  },
  {
   "cell_type": "code",
   "execution_count": null,
   "metadata": {
    "collapsed": false
   },
   "outputs": [],
   "source": [
    "rows = 4\n",
    "cols = 2\n",
    "\n",
    "with sns.color_palette(n_colors=4):\n",
    "    f, ax = plt.subplots(rows,cols, figsize=(20,20))\n",
    "    for i in range(rows):\n",
    "        for j in range(cols):\n",
    "            muscle = np.ravel_multi_index((i,j), (rows,cols))\n",
    "            ax[i,j].plot(emg_[:,:,muscle], linewidth=2, alpha=1)\n",
    "            ax[i,j].plot(y_tf[:,:,muscle],'--',linewidth=4, alpha=0.5)\n",
    "            ax[i,j].set_title(str(muscle))\n",
    "plt.show()"
   ]
  },
  {
   "cell_type": "markdown",
   "metadata": {},
   "source": [
    "## RNN neuron PC plots"
   ]
  },
  {
   "cell_type": "code",
   "execution_count": null,
   "metadata": {
    "collapsed": false
   },
   "outputs": [],
   "source": [
    "pca_x = sk.decomposition.PCA(n_components=5)\n",
    "pca_y = sk.decomposition.PCA(n_components=5)\n",
    "\n",
    "pca_x.fit(np.concatenate([x_tf[:,i,:] for i in range(4)]))\n",
    "pca_y.fit(np.concatenate([y_tf[:,i,:] for i in range(4)]))"
   ]
  },
  {
   "cell_type": "code",
   "execution_count": null,
   "metadata": {
    "collapsed": false
   },
   "outputs": [],
   "source": [
    "# plot PCs for the RNN state variable\n",
    "make_pairgrid([np.dot(x_tf[:,i,:], pca_x.components_.T) for i in range(4)])"
   ]
  },
  {
   "cell_type": "markdown",
   "metadata": {},
   "source": [
    "## RNN activations"
   ]
  },
  {
   "cell_type": "code",
   "execution_count": null,
   "metadata": {
    "collapsed": false
   },
   "outputs": [],
   "source": [
    "rows = 10\n",
    "cols = 4\n",
    "f, ax = plt.subplots(rows,cols, figsize=(20,20))\n",
    "\n",
    "for i in range(rows):\n",
    "    for j in range(cols):\n",
    "        neuron = np.ravel_multi_index((i,j), (rows,cols))\n",
    "        ax[i,j].plot(x_tf[:,:,neuron])\n",
    "        ax[i,j].set_title(str(neuron))\n",
    "plt.show()"
   ]
  },
  {
   "cell_type": "markdown",
   "metadata": {},
   "source": [
    "### export to stupid lab"
   ]
  },
  {
   "cell_type": "code",
   "execution_count": null,
   "metadata": {
    "collapsed": true
   },
   "outputs": [],
   "source": [
    "savestr = '/Users/jeff/Documents/MATLAB/CyclingTask/data/tf_'+cur_run+'.mat'\n",
    "savemat(savestr, mdict={'X': x_tf})"
   ]
  },
  {
   "cell_type": "code",
   "execution_count": 37,
   "metadata": {
    "collapsed": true
   },
   "outputs": [],
   "source": [
    "blah = 'loadpath'"
   ]
  },
  {
   "cell_type": "code",
   "execution_count": 39,
   "metadata": {
    "collapsed": false
   },
   "outputs": [
    {
     "data": {
      "text/plain": [
       "False"
      ]
     },
     "execution_count": 39,
     "metadata": {},
     "output_type": "execute_result"
    }
   ],
   "source": []
  }
 ],
 "metadata": {
  "kernelspec": {
   "display_name": "Python 2",
   "language": "python",
   "name": "python2"
  },
  "language_info": {
   "codemirror_mode": {
    "name": "ipython",
    "version": 2
   },
   "file_extension": ".py",
   "mimetype": "text/x-python",
   "name": "python",
   "nbconvert_exporter": "python",
   "pygments_lexer": "ipython2",
   "version": "2.7.12"
  }
 },
 "nbformat": 4,
 "nbformat_minor": 0
}
